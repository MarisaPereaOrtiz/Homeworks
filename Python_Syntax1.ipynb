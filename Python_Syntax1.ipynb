{
  "nbformat": 4,
  "nbformat_minor": 0,
  "metadata": {
    "celltoolbar": "Slideshow",
    "kernelspec": {
      "display_name": "Python 3",
      "language": "python",
      "name": "python3"
    },
    "language_info": {
      "codemirror_mode": {
        "name": "ipython",
        "version": 3
      },
      "file_extension": ".py",
      "mimetype": "text/x-python",
      "name": "python",
      "nbconvert_exporter": "python",
      "pygments_lexer": "ipython3",
      "version": "3.7.4"
    },
    "colab": {
      "name": "Copy of Python Syntax1.ipynb",
      "provenance": [],
      "collapsed_sections": []
    }
  },
  "cells": [
    {
      "cell_type": "markdown",
      "metadata": {
        "id": "NSWRh7qfu_DX",
        "colab_type": "text"
      },
      "source": [
        "\n",
        "\n",
        "# Intro. to Python Syntax, Part 1\n",
        "## Operators"
      ]
    },
    {
      "cell_type": "markdown",
      "metadata": {
        "id": "d-2PRBxru_DZ",
        "colab_type": "text"
      },
      "source": [
        "## Exercises: Using Python as a calculator\n",
        "\n",
        "Using the operators in the table below, ask Python to solve these difficult math equations:\n",
        "\n",
        "|Assign to a Variable | Add  | Subract | Multiply | Divide | Power | Integer Divide | Remainder after Division | \n",
        "|  :---------------:  | :---:| :-----: | :------: | :----: | :---: | :------------: | :----------------------: |\n",
        "|         =           |  +   |    -    |    *     |   /    |   **  |       //       |           %              |"
      ]
    },
    {
      "cell_type": "markdown",
      "metadata": {
        "id": "6ETtOQTAu_Db",
        "colab_type": "text"
      },
      "source": [
        "1. What is two plus three?"
      ]
    },
    {
      "cell_type": "code",
      "metadata": {
        "id": "Z_benvDnu_Dc",
        "colab_type": "code",
        "outputId": "8bdc0b5d-b6b3-436d-80cd-18e98f5055db",
        "colab": {
          "base_uri": "https://localhost:8080/",
          "height": 34
        }
      },
      "source": [
        "sum = 2 + 3\n",
        "print(sum)"
      ],
      "execution_count": 0,
      "outputs": [
        {
          "output_type": "stream",
          "text": [
            "5\n"
          ],
          "name": "stdout"
        }
      ]
    },
    {
      "cell_type": "markdown",
      "metadata": {
        "id": "BaSUuLeDu_D6",
        "colab_type": "text"
      },
      "source": [
        "2. What is two times three?"
      ]
    },
    {
      "cell_type": "code",
      "metadata": {
        "id": "jUQVawBQu_D8",
        "colab_type": "code",
        "outputId": "e8b6953d-2c38-4745-9e25-f0e6afd67bd3",
        "colab": {
          "base_uri": "https://localhost:8080/",
          "height": 34
        }
      },
      "source": [
        "mult= 2*3\n",
        "print(mult)"
      ],
      "execution_count": 0,
      "outputs": [
        {
          "output_type": "stream",
          "text": [
            "6\n"
          ],
          "name": "stdout"
        }
      ]
    },
    {
      "cell_type": "markdown",
      "metadata": {
        "id": "2xsHeCOCu_EC",
        "colab_type": "text"
      },
      "source": [
        "3. What is two to the third power?"
      ]
    },
    {
      "cell_type": "code",
      "metadata": {
        "id": "hF5t3a8-u_EE",
        "colab_type": "code",
        "outputId": "b17c50a6-1b11-4da0-e9ab-d12ff38fe0ef",
        "colab": {
          "base_uri": "https://localhost:8080/",
          "height": 34
        }
      },
      "source": [
        "power = 2**3\n",
        "print (power)"
      ],
      "execution_count": 0,
      "outputs": [
        {
          "output_type": "stream",
          "text": [
            "8\n"
          ],
          "name": "stdout"
        }
      ]
    },
    {
      "cell_type": "markdown",
      "metadata": {
        "id": "hKeWvlZNu_FJ",
        "colab_type": "text"
      },
      "source": [
        "3.5 How many (whole) times does 7 go into 100?"
      ]
    },
    {
      "cell_type": "code",
      "metadata": {
        "id": "7OpRK9vJu_FK",
        "colab_type": "code",
        "outputId": "d7ebdea3-6bcc-46bd-bf01-c9f08c9752f2",
        "colab": {
          "base_uri": "https://localhost:8080/",
          "height": 34
        }
      },
      "source": [
        "number = 100//7\n",
        "print(number)"
      ],
      "execution_count": 0,
      "outputs": [
        {
          "output_type": "stream",
          "text": [
            "14\n"
          ],
          "name": "stdout"
        }
      ]
    },
    {
      "cell_type": "markdown",
      "metadata": {
        "id": "aJxA4LOUu_FS",
        "colab_type": "text"
      },
      "source": [
        "4. What is the remainder after dividing 3 from 2?"
      ]
    },
    {
      "cell_type": "code",
      "metadata": {
        "id": "M3dB0vOQu_FT",
        "colab_type": "code",
        "outputId": "1184960d-97f9-40fe-ac19-ccbc9b5ef07b",
        "colab": {
          "base_uri": "https://localhost:8080/",
          "height": 34
        }
      },
      "source": [
        "3%2"
      ],
      "execution_count": 0,
      "outputs": [
        {
          "output_type": "execute_result",
          "data": {
            "text/plain": [
              "1"
            ]
          },
          "metadata": {
            "tags": []
          },
          "execution_count": 12
        }
      ]
    },
    {
      "cell_type": "markdown",
      "metadata": {
        "id": "9dDgtMt2u_Fg",
        "colab_type": "text"
      },
      "source": [
        "#### Let's See: Does Python do operations left-to-right, or follow the mathematical order of operations (addition and subtraction only after multiplication and division)?\n",
        "\n",
        "Read each of the following math expressions to yourself and calculate (on paper, or in your head) what the answer shoud be.  Then check the answer by calculating it in Python.  Were they the same answer?"
      ]
    },
    {
      "cell_type": "markdown",
      "metadata": {
        "id": "fMHmBKqhu_Fj",
        "colab_type": "text"
      },
      "source": [
        "3 + 5 + 2 = 10"
      ]
    },
    {
      "cell_type": "code",
      "metadata": {
        "id": "0mcMlVlYu_Fm",
        "colab_type": "code",
        "outputId": "c3d28a36-f221-449d-fa83-3b682b34942d",
        "colab": {
          "base_uri": "https://localhost:8080/",
          "height": 34
        }
      },
      "source": [
        "3+5+2"
      ],
      "execution_count": 0,
      "outputs": [
        {
          "output_type": "execute_result",
          "data": {
            "text/plain": [
              "10"
            ]
          },
          "metadata": {
            "tags": []
          },
          "execution_count": 14
        }
      ]
    },
    {
      "cell_type": "markdown",
      "metadata": {
        "id": "RerchhVBu_F0",
        "colab_type": "text"
      },
      "source": [
        "3 * 5 + 2 = 17\n"
      ]
    },
    {
      "cell_type": "code",
      "metadata": {
        "id": "KI6ZbJAku_F1",
        "colab_type": "code",
        "outputId": "6db444de-fed4-47fa-e48c-7b837cc4b450",
        "colab": {
          "base_uri": "https://localhost:8080/",
          "height": 34
        }
      },
      "source": [
        "3*5+2"
      ],
      "execution_count": 0,
      "outputs": [
        {
          "output_type": "execute_result",
          "data": {
            "text/plain": [
              "17"
            ]
          },
          "metadata": {
            "tags": []
          },
          "execution_count": 13
        }
      ]
    },
    {
      "cell_type": "markdown",
      "metadata": {
        "id": "0LB0dWuHu_GC",
        "colab_type": "text"
      },
      "source": [
        "3 + 5 * 2 =13\n"
      ]
    },
    {
      "cell_type": "code",
      "metadata": {
        "id": "UEpJNMIbu_GD",
        "colab_type": "code",
        "outputId": "f6cb34e2-22c2-42b8-92a3-8ecb3869a576",
        "colab": {
          "base_uri": "https://localhost:8080/",
          "height": 34
        }
      },
      "source": [
        "3+5*2"
      ],
      "execution_count": 0,
      "outputs": [
        {
          "output_type": "execute_result",
          "data": {
            "text/plain": [
              "13"
            ]
          },
          "metadata": {
            "tags": []
          },
          "execution_count": 15
        }
      ]
    },
    {
      "cell_type": "markdown",
      "metadata": {
        "id": "NQQdKQgxu_GH",
        "colab_type": "text"
      },
      "source": [
        "(3 * 5) + 2 = 17"
      ]
    },
    {
      "cell_type": "code",
      "metadata": {
        "id": "J5-O1UKwu_GI",
        "colab_type": "code",
        "outputId": "1d2ad54b-d709-4781-f1d0-2117344668cb",
        "colab": {
          "base_uri": "https://localhost:8080/",
          "height": 34
        }
      },
      "source": [
        "(3*5)+2"
      ],
      "execution_count": 0,
      "outputs": [
        {
          "output_type": "execute_result",
          "data": {
            "text/plain": [
              "17"
            ]
          },
          "metadata": {
            "tags": []
          },
          "execution_count": 16
        }
      ]
    },
    {
      "cell_type": "markdown",
      "metadata": {
        "id": "Bd_BV7u9u_Gr",
        "colab_type": "text"
      },
      "source": [
        "3 * (5 + 2) =21"
      ]
    },
    {
      "cell_type": "code",
      "metadata": {
        "id": "8QoCg8tku_Gs",
        "colab_type": "code",
        "outputId": "bcd77fd1-9ea5-46fc-c7c5-cdadaeeb2e4d",
        "colab": {
          "base_uri": "https://localhost:8080/",
          "height": 34
        }
      },
      "source": [
        "3*(5+2)"
      ],
      "execution_count": 0,
      "outputs": [
        {
          "output_type": "execute_result",
          "data": {
            "text/plain": [
              "21"
            ]
          },
          "metadata": {
            "tags": []
          },
          "execution_count": 17
        }
      ]
    },
    {
      "cell_type": "markdown",
      "metadata": {
        "id": "NNFTDye-u_G7",
        "colab_type": "text"
      },
      "source": [
        "What order is Python running the code?"
      ]
    },
    {
      "cell_type": "markdown",
      "metadata": {
        "id": "dJWZpLj5u_G7",
        "colab_type": "text"
      },
      "source": [
        "# Testing Your Logic\n",
        "## Bools\n",
        "\n",
        "You can also ask Python logical questions (questions that have a \"True\" or \"False\" answer). \n",
        "\n",
        "| \"Is Equal to\" | \"Is Greater than\" | \"Is Greater than or Equal to\"|  \"Is not Equal to\" |\n",
        "|  :----------: |  :----------:     |  :----------: |  :----------: |\n",
        "| ==            |   >               |   >=          |  !=  |\n",
        "\n",
        "Python will return \"True\" if the statement is true, \"False\" if False\n",
        "\n",
        "```python\n",
        ">>> 3 > 2\n",
        "True\n",
        "\n",
        ">>> 3 < 2\n",
        "False\n",
        "\n",
        ">>> 3 == 2\n",
        "False\n",
        "```\n",
        "\n",
        "Using logical operators, decide if the following assertions are True or False:"
      ]
    },
    {
      "cell_type": "markdown",
      "metadata": {
        "id": "fo1wY9pwu_G8",
        "colab_type": "text"
      },
      "source": [
        "1. One hundred is bigger than ten."
      ]
    },
    {
      "cell_type": "code",
      "metadata": {
        "id": "TT_Os7Xvu_G9",
        "colab_type": "code",
        "outputId": "aac4f24a-5b2b-4f8b-daff-1831287520eb",
        "colab": {
          "base_uri": "https://localhost:8080/",
          "height": 34
        }
      },
      "source": [
        "100> 10"
      ],
      "execution_count": 0,
      "outputs": [
        {
          "output_type": "execute_result",
          "data": {
            "text/plain": [
              "True"
            ]
          },
          "metadata": {
            "tags": []
          },
          "execution_count": 8
        }
      ]
    },
    {
      "cell_type": "markdown",
      "metadata": {
        "id": "hQTQlcbiu_HH",
        "colab_type": "text"
      },
      "source": [
        "2. Thirty squared is not equal to nine-hundred."
      ]
    },
    {
      "cell_type": "code",
      "metadata": {
        "id": "bsECG5UUu_HI",
        "colab_type": "code",
        "outputId": "094f946c-1793-4c1a-e9fd-250b6d1e1a6c",
        "colab": {
          "base_uri": "https://localhost:8080/",
          "height": 34
        }
      },
      "source": [
        "30**2!=900"
      ],
      "execution_count": 0,
      "outputs": [
        {
          "output_type": "execute_result",
          "data": {
            "text/plain": [
              "False"
            ]
          },
          "metadata": {
            "tags": []
          },
          "execution_count": 9
        }
      ]
    },
    {
      "cell_type": "markdown",
      "metadata": {
        "id": "ETCsXxptu_HL",
        "colab_type": "text"
      },
      "source": [
        "3. These two equations are equal:  \n",
        "  - 30 - 5 * 2\n",
        "  - 100 / 5"
      ]
    },
    {
      "cell_type": "code",
      "metadata": {
        "id": "f3g8zr7wu_HM",
        "colab_type": "code",
        "outputId": "7b50a106-8eda-4a1f-c5d9-a3e433771d9b",
        "colab": {
          "base_uri": "https://localhost:8080/",
          "height": 34
        }
      },
      "source": [
        "30-5*2==100/5"
      ],
      "execution_count": 0,
      "outputs": [
        {
          "output_type": "execute_result",
          "data": {
            "text/plain": [
              "True"
            ]
          },
          "metadata": {
            "tags": []
          },
          "execution_count": 10
        }
      ]
    },
    {
      "cell_type": "markdown",
      "metadata": {
        "id": "ZY0PAqMSu_HP",
        "colab_type": "text"
      },
      "source": [
        "4. The sum of the numbers from 1 to 5 are at least 15."
      ]
    },
    {
      "cell_type": "code",
      "metadata": {
        "id": "LhTiYEIku_HP",
        "colab_type": "code",
        "outputId": "7ffcef79-e042-4260-b6b9-9dd6eda6ffa9",
        "colab": {
          "base_uri": "https://localhost:8080/",
          "height": 34
        }
      },
      "source": [
        "1+2+3+4+5>=15"
      ],
      "execution_count": 0,
      "outputs": [
        {
          "output_type": "execute_result",
          "data": {
            "text/plain": [
              "True"
            ]
          },
          "metadata": {
            "tags": []
          },
          "execution_count": 11
        }
      ]
    },
    {
      "cell_type": "markdown",
      "metadata": {
        "id": "d9qUN2aQu_HX",
        "colab_type": "text"
      },
      "source": [
        "(optional). The length of all the DNA in a single adult human, unravelled end to end, is greater than the distance from the earth to the the moon."
      ]
    },
    {
      "cell_type": "code",
      "metadata": {
        "id": "kxSf8cFYu_HY",
        "colab_type": "code",
        "colab": {}
      },
      "source": [
        ""
      ],
      "execution_count": 0,
      "outputs": []
    },
    {
      "cell_type": "code",
      "metadata": {
        "id": "PtTjhe9ou_Hf",
        "colab_type": "code",
        "colab": {}
      },
      "source": [
        ""
      ],
      "execution_count": 0,
      "outputs": []
    },
    {
      "cell_type": "code",
      "metadata": {
        "id": "gvwstfMga7_8",
        "colab_type": "code",
        "outputId": "6acc7877-8a2f-4bcb-a5c8-15e1168c324f",
        "colab": {
          "base_uri": "https://localhost:8080/",
          "height": 34
        }
      },
      "source": [
        "3 > 5 or 4 > 2"
      ],
      "execution_count": 0,
      "outputs": [
        {
          "output_type": "execute_result",
          "data": {
            "text/plain": [
              "True"
            ]
          },
          "metadata": {
            "tags": []
          },
          "execution_count": 6
        }
      ]
    },
    {
      "cell_type": "markdown",
      "metadata": {
        "id": "lEX_NnDWu_Hr",
        "colab_type": "text"
      },
      "source": [
        "### Combining Logical Expressions: \"And\" and \"Or\"\n",
        "\n",
        "Finally, you can combine logical expression with \"and\" and \"or\" operators.  Python has 2 ways of saying \"and\" and or:\n",
        "\n",
        "| \"And\" | \"Or\" |\n",
        "| :---: | :---:|\n",
        "|  and  |  or  |\n",
        "|   &   |  \\|' |\n",
        "\n",
        "\n",
        "```python\n",
        ">>> 3 < 5 & 4 > 2\n",
        "True\n",
        "\n",
        ">>> 3 < 5 and 4 > 2\n",
        "True\n",
        "\n",
        ">>> 3 > 5 or 4 > 2\n",
        "True\n",
        "\n",
        ">>> 3 > 5 | 4 > 2\n",
        "True\n",
        "```\n"
      ]
    }
  ]
}