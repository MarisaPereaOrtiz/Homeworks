{
  "nbformat": 4,
  "nbformat_minor": 0,
  "metadata": {
    "kernelspec": {
      "display_name": "Python 3",
      "language": "python",
      "name": "python3"
    },
    "language_info": {
      "codemirror_mode": {
        "name": "ipython",
        "version": 3
      },
      "file_extension": ".py",
      "mimetype": "text/x-python",
      "name": "python",
      "nbconvert_exporter": "python",
      "pygments_lexer": "ipython3",
      "version": "3.7.4"
    },
    "colab": {
      "name": "Copy of Python Syntax 4.ipynb",
      "provenance": []
    }
  },
  "cells": [
    {
      "cell_type": "markdown",
      "metadata": {
        "id": "UvPTzwa-DCY6",
        "colab_type": "text"
      },
      "source": [
        "# Built-In Type Methods\n",
        "\n",
        "As we discussed in the lecture, all Python objects are **Objects**, which means they have **Properties/Attributes** (data) and **Methods** associated with them.  \n",
        "\n",
        "|  Object    | type(Object)  |  Example Method  |  Example Attribute  | \n",
        "| :----:     | :----------:  |  :------------:  |  :---------------:  |\n",
        "| \"Hello\"    |     str       |     lower()      |                     |\n",
        "|    42      |     int       |    bit_length()  |     numerator       |\n",
        "|   3.14     |    float      |    is_integer()  |     imag            |\n",
        "| ['a', 'b'] |  list         |     append()     |                     |\n",
        "\n",
        "\n",
        "These are accessible via the **. (dot)**, and an object's methods can be browsed in the notebook by typing the **Tab** key after the dot.\n",
        "\n",
        "For example, here we use a **string** **Class**'s *title()* method to capitalize the first letter of each word of the film title:"
      ]
    },
    {
      "cell_type": "code",
      "metadata": {
        "id": "hVx65cA3DCY8",
        "colab_type": "code",
        "outputId": "c1cc7294-c8e2-47cf-f993-0ff5ebbc9381",
        "colab": {
          "base_uri": "https://localhost:8080/",
          "height": 34
        }
      },
      "source": [
        "film = 'the lion king'\n",
        "film.capitalize()"
      ],
      "execution_count": 0,
      "outputs": [
        {
          "output_type": "execute_result",
          "data": {
            "text/plain": [
              "'The lion king'"
            ]
          },
          "metadata": {
            "tags": []
          },
          "execution_count": 2
        }
      ]
    },
    {
      "cell_type": "code",
      "metadata": {
        "id": "CUkBV3aqDCZX",
        "colab_type": "code",
        "outputId": "6f2abea1-8df5-4d88-b313-39edcfa1115a",
        "colab": {}
      },
      "source": [
        "type(film)"
      ],
      "execution_count": 0,
      "outputs": [
        {
          "output_type": "execute_result",
          "data": {
            "text/plain": [
              "str"
            ]
          },
          "metadata": {
            "tags": []
          },
          "execution_count": 51
        }
      ]
    },
    {
      "cell_type": "code",
      "metadata": {
        "id": "c1ncEV1gDCZe",
        "colab_type": "code",
        "outputId": "eae299d1-dfeb-4ed3-8ff7-a644e70e9ba6",
        "colab": {
          "base_uri": "https://localhost:8080/",
          "height": 34
        }
      },
      "source": [
        "bigfilm = film.title()\n",
        "bigfilm"
      ],
      "execution_count": 0,
      "outputs": [
        {
          "output_type": "execute_result",
          "data": {
            "text/plain": [
              "'The Lion King'"
            ]
          },
          "metadata": {
            "tags": []
          },
          "execution_count": 3
        }
      ]
    },
    {
      "cell_type": "markdown",
      "metadata": {
        "id": "WRIjvuU7DCZm",
        "colab_type": "text"
      },
      "source": [
        "## Exercises: Strings"
      ]
    },
    {
      "cell_type": "markdown",
      "metadata": {
        "id": "5DS0mhFLDCZn",
        "colab_type": "text"
      },
      "source": [
        "Use the string methods to modify the following strings to the versions described below."
      ]
    },
    {
      "cell_type": "markdown",
      "metadata": {
        "id": "HmOSeeiuDCZo",
        "colab_type": "text"
      },
      "source": [
        "### Changing Strings\n",
        "\n",
        "Use the **strip**, **swapcase**, **title**, **lower**, **upper**, and **zfill** methods, or the **\\+** or **\\*** operators, to perform the following modifications:"
      ]
    },
    {
      "cell_type": "markdown",
      "metadata": {
        "id": "NXmfqZaaDCZp",
        "colab_type": "text"
      },
      "source": [
        "**\"I am angry\"** -> **\"I AM ANGRY\"**"
      ]
    },
    {
      "cell_type": "code",
      "metadata": {
        "id": "NBFSajyEDCZp",
        "colab_type": "code",
        "outputId": "69a4f212-26e9-49fa-9df1-7cf979462605",
        "colab": {
          "base_uri": "https://localhost:8080/",
          "height": 34
        }
      },
      "source": [
        "'I am angry'.upper()"
      ],
      "execution_count": 0,
      "outputs": [
        {
          "output_type": "execute_result",
          "data": {
            "text/plain": [
              "'I AM ANGRY'"
            ]
          },
          "metadata": {
            "tags": []
          },
          "execution_count": 4
        }
      ]
    },
    {
      "cell_type": "markdown",
      "metadata": {
        "id": "omWy7UU4DCZu",
        "colab_type": "text"
      },
      "source": [
        "**\"the lion king\"** -> **\"The Lion King\"**"
      ]
    },
    {
      "cell_type": "code",
      "metadata": {
        "id": "kTBZ23twDCZy",
        "colab_type": "code",
        "outputId": "c77ae1e6-25b7-4f49-bece-2e15b212a6a9",
        "colab": {
          "base_uri": "https://localhost:8080/",
          "height": 34
        }
      },
      "source": [
        "'the lion king'.title()"
      ],
      "execution_count": 0,
      "outputs": [
        {
          "output_type": "execute_result",
          "data": {
            "text/plain": [
              "'The Lion King'"
            ]
          },
          "metadata": {
            "tags": []
          },
          "execution_count": 6
        }
      ]
    },
    {
      "cell_type": "markdown",
      "metadata": {
        "id": "4Qt3111yDCZ4",
        "colab_type": "text"
      },
      "source": [
        "**He said, \"Are you okay?\"** -> **hE SAID, \"aRE YOU OKAY?\"**"
      ]
    },
    {
      "cell_type": "code",
      "metadata": {
        "id": "v7GcHsCYDCZ5",
        "colab_type": "code",
        "outputId": "122f721a-c544-4338-cdb2-ab9fc65d7a06",
        "colab": {
          "base_uri": "https://localhost:8080/",
          "height": 34
        }
      },
      "source": [
        "'He said, \\'Are you okay?\\''.swapcase()"
      ],
      "execution_count": 0,
      "outputs": [
        {
          "output_type": "execute_result",
          "data": {
            "text/plain": [
              "\"hE SAID, 'aRE YOU OKAY?'\""
            ]
          },
          "metadata": {
            "tags": []
          },
          "execution_count": 8
        }
      ]
    },
    {
      "cell_type": "markdown",
      "metadata": {
        "id": "OXFYV_3sDCZ_",
        "colab_type": "text"
      },
      "source": [
        "**three** -> **threethreethree**"
      ]
    },
    {
      "cell_type": "code",
      "metadata": {
        "id": "tCz9aGh3DCaA",
        "colab_type": "code",
        "outputId": "1852d7c0-41f1-4922-daf2-915d8fc266c5",
        "colab": {
          "base_uri": "https://localhost:8080/",
          "height": 34
        }
      },
      "source": [
        "'three'*3"
      ],
      "execution_count": 0,
      "outputs": [
        {
          "output_type": "execute_result",
          "data": {
            "text/plain": [
              "'threethreethree'"
            ]
          },
          "metadata": {
            "tags": []
          },
          "execution_count": 10
        }
      ]
    },
    {
      "cell_type": "markdown",
      "metadata": {
        "id": "5UZfcTyDDCaG",
        "colab_type": "text"
      },
      "source": [
        "### Searching Substrings\n",
        "\n",
        "Use the **replace**, **count**, and **index** methods to search for a substring and answer the following questions using the example sentence below:\n",
        "\n",
        "```python\n",
        "sentence = \"The dog ate my watermelon when we were digging at the beach!\"\n",
        "```"
      ]
    },
    {
      "cell_type": "code",
      "metadata": {
        "id": "hjSqMd6iDCaH",
        "colab_type": "code",
        "colab": {}
      },
      "source": [
        "sentence = \"The dog ate my watermelon when we were digging at the beach!\""
      ],
      "execution_count": 0,
      "outputs": []
    },
    {
      "cell_type": "markdown",
      "metadata": {
        "id": "IVw_cxGVDCaL",
        "colab_type": "text"
      },
      "source": [
        "How many \"w\" characters are in this sentence?"
      ]
    },
    {
      "cell_type": "code",
      "metadata": {
        "id": "ZS6Fs_SODCaM",
        "colab_type": "code",
        "outputId": "3176d620-26f6-4e25-8971-8f28f939b282",
        "colab": {
          "base_uri": "https://localhost:8080/",
          "height": 34
        }
      },
      "source": [
        "sentence.count('w')"
      ],
      "execution_count": 0,
      "outputs": [
        {
          "output_type": "execute_result",
          "data": {
            "text/plain": [
              "4"
            ]
          },
          "metadata": {
            "tags": []
          },
          "execution_count": 15
        }
      ]
    },
    {
      "cell_type": "markdown",
      "metadata": {
        "id": "c3twsXcdDCaQ",
        "colab_type": "text"
      },
      "source": [
        "What character index does the word \"watermelon\" start on? (the first? The tenth?)"
      ]
    },
    {
      "cell_type": "code",
      "metadata": {
        "id": "NC8LroJODCaR",
        "colab_type": "code",
        "outputId": "280c5f1e-2d89-42b9-85cd-bee2395c0617",
        "colab": {
          "base_uri": "https://localhost:8080/",
          "height": 34
        }
      },
      "source": [
        "sentence.index('watermelon')"
      ],
      "execution_count": 0,
      "outputs": [
        {
          "output_type": "execute_result",
          "data": {
            "text/plain": [
              "15"
            ]
          },
          "metadata": {
            "tags": []
          },
          "execution_count": 16
        }
      ]
    },
    {
      "cell_type": "markdown",
      "metadata": {
        "id": "BhL_Vh41DCaY",
        "colab_type": "text"
      },
      "source": [
        "Replace the word \"dog\" in the sentence with the word \"cat\""
      ]
    },
    {
      "cell_type": "code",
      "metadata": {
        "id": "x_HVW4ABDCaY",
        "colab_type": "code",
        "outputId": "a5ea4503-9a87-4e34-fbd5-921277ad26ae",
        "colab": {
          "base_uri": "https://localhost:8080/",
          "height": 34
        }
      },
      "source": [
        "sentence.replace('dog','cat')"
      ],
      "execution_count": 0,
      "outputs": [
        {
          "output_type": "execute_result",
          "data": {
            "text/plain": [
              "'The cat ate my watermelon when we were digging at the beach!'"
            ]
          },
          "metadata": {
            "tags": []
          },
          "execution_count": 17
        }
      ]
    },
    {
      "cell_type": "markdown",
      "metadata": {
        "id": "PtDzYl8bDCac",
        "colab_type": "text"
      },
      "source": [
        "### Formatting Strings\n",
        "\n",
        "The most common method used for strings is the **format()** methods, so it deserves special mention.  It is used to insert data into a string.  It is similar to the **replace()** method but only replaces curly braces **{}**, but it is *way* more powerful.  In fact, there is a whole web page dedicated to showing all the ways you can use it: https://pyformat.info/\n",
        "\n",
        "```python\n",
        "label_fmt = \"Sample {}: Vial {}\"\n",
        "label_fmt.format(3, 4)\n",
        ">> \"Sample 3: Vial 4\"\n",
        "```"
      ]
    },
    {
      "cell_type": "markdown",
      "metadata": {
        "id": "STIoVq2ZDCac",
        "colab_type": "text"
      },
      "source": [
        "Using the **format()** method, make the following three sentences out of the original sentence below:"
      ]
    },
    {
      "cell_type": "code",
      "metadata": {
        "id": "sWulGIqMDCad",
        "colab_type": "code",
        "colab": {}
      },
      "source": [
        "sentence = \"I bought {} dogs.\""
      ],
      "execution_count": 0,
      "outputs": []
    },
    {
      "cell_type": "markdown",
      "metadata": {
        "id": "7jCFnu6dDCah",
        "colab_type": "text"
      },
      "source": [
        "1. \"I bought 3 dogs.\""
      ]
    },
    {
      "cell_type": "code",
      "metadata": {
        "id": "1P72k6n9DCak",
        "colab_type": "code",
        "outputId": "6a97fe7c-3df3-461e-f9d8-72025be5d2da",
        "colab": {
          "base_uri": "https://localhost:8080/",
          "height": 34
        }
      },
      "source": [
        "sentence.format(3)"
      ],
      "execution_count": 0,
      "outputs": [
        {
          "output_type": "execute_result",
          "data": {
            "text/plain": [
              "'I bought 3 dogs.'"
            ]
          },
          "metadata": {
            "tags": []
          },
          "execution_count": 19
        }
      ]
    },
    {
      "cell_type": "markdown",
      "metadata": {
        "id": "PoQxJeEGDCao",
        "colab_type": "text"
      },
      "source": [
        "2. \"Wendy bought 5 dogs.\""
      ]
    },
    {
      "cell_type": "code",
      "metadata": {
        "id": "cz4HnSqdDCap",
        "colab_type": "code",
        "outputId": "4dd7cef3-8dfa-43f7-c6e1-4795bb5fe76a",
        "colab": {
          "base_uri": "https://localhost:8080/",
          "height": 34
        }
      },
      "source": [
        "sentence = '{} bought {} dogs'\n",
        "sentence.format('Wendy',5)"
      ],
      "execution_count": 0,
      "outputs": [
        {
          "output_type": "execute_result",
          "data": {
            "text/plain": [
              "'Wendy bought 5 dogs'"
            ]
          },
          "metadata": {
            "tags": []
          },
          "execution_count": 21
        }
      ]
    },
    {
      "cell_type": "markdown",
      "metadata": {
        "id": "AIzusDpODCav",
        "colab_type": "text"
      },
      "source": [
        "3. \"George bought 700 dogs.\""
      ]
    },
    {
      "cell_type": "code",
      "metadata": {
        "id": "NCXfvrjADCaw",
        "colab_type": "code",
        "outputId": "801fa34f-0ae5-4f34-a920-b87758bd6ac4",
        "colab": {
          "base_uri": "https://localhost:8080/",
          "height": 34
        }
      },
      "source": [
        "sentence.format('George', 700)"
      ],
      "execution_count": 0,
      "outputs": [
        {
          "output_type": "execute_result",
          "data": {
            "text/plain": [
              "'George bought 700 dogs'"
            ]
          },
          "metadata": {
            "tags": []
          },
          "execution_count": 23
        }
      ]
    },
    {
      "cell_type": "markdown",
      "metadata": {
        "id": "xL-pZ0YeDCa3",
        "colab_type": "text"
      },
      "source": [
        "## Lists\n",
        "\n",
        "Lists represent sequences of data.  They are made with either the square brackets **[]** or the **list()** constructor function.  They can be appended to, just like strings, but they can contain any kind of data--numbers, strings, even other lists.  Their methods mostly revolve around inserting and removing things:\n",
        "\n",
        "| Method   |  What it Does                                  | \n",
        "| :-----:  |  :----------:                                  |\n",
        "| append() | Appends an item to the end of the list.        | \n",
        "| extend() | Appends several items to the end of the list.  | \n",
        "| remove() | Removes an item from the list.                 |\n",
        "| clear()  | Removes everything from the list.              | \n",
        "| copy()   | Returns a copy of the list.                    |\n",
        "| count()  | Removes a specified item from the list         | \n",
        "| sort()   | Sorts the list.                                |\n",
        "| reverse()| Reverses the order of items in the list.       |"
      ]
    },
    {
      "cell_type": "markdown",
      "metadata": {
        "id": "DxRuc6fwDCa6",
        "colab_type": "text"
      },
      "source": [
        "**Example**\n",
        "\n",
        "Here is a list of colors:"
      ]
    },
    {
      "cell_type": "code",
      "metadata": {
        "id": "a7OKNU2zDCa7",
        "colab_type": "code",
        "outputId": "7f8834d5-521d-41a0-dacd-21f9d477df24",
        "colab": {}
      },
      "source": [
        "colors = ['Red', 'Blue', 'Yello']\n",
        "colors"
      ],
      "execution_count": 0,
      "outputs": [
        {
          "output_type": "execute_result",
          "data": {
            "text/plain": [
              "['Red', 'Blue', 'Yello']"
            ]
          },
          "metadata": {
            "tags": []
          },
          "execution_count": 56
        }
      ]
    },
    {
      "cell_type": "markdown",
      "metadata": {
        "id": "jD3tsbtnDCbA",
        "colab_type": "text"
      },
      "source": [
        "Let's append the color 'Yellow' to the list:"
      ]
    },
    {
      "cell_type": "code",
      "metadata": {
        "id": "R5JTQSehDCbB",
        "colab_type": "code",
        "outputId": "f551c0e3-e63b-4d3a-eb1b-1d199194f257",
        "colab": {}
      },
      "source": [
        "colors.append('Yellow')\n",
        "colors"
      ],
      "execution_count": 0,
      "outputs": [
        {
          "output_type": "execute_result",
          "data": {
            "text/plain": [
              "['Red', 'Blue', 'Yello', 'Yellow']"
            ]
          },
          "metadata": {
            "tags": []
          },
          "execution_count": 57
        }
      ]
    },
    {
      "cell_type": "markdown",
      "metadata": {
        "id": "Fl9luZjKDCbF",
        "colab_type": "text"
      },
      "source": [
        "*Note*: If you run the above code multiple times, 'Yellow' will be appended to the list multiple times!"
      ]
    },
    {
      "cell_type": "markdown",
      "metadata": {
        "id": "FKJMWMLPDCbH",
        "colab_type": "text"
      },
      "source": [
        "### List Method Exercises"
      ]
    },
    {
      "cell_type": "markdown",
      "metadata": {
        "id": "2sJOAc20DCbJ",
        "colab_type": "text"
      },
      "source": [
        "1. Make a list of 3 movie titles."
      ]
    },
    {
      "cell_type": "code",
      "metadata": {
        "id": "NrvFppSXDCbK",
        "colab_type": "code",
        "colab": {}
      },
      "source": [
        ""
      ],
      "execution_count": 0,
      "outputs": []
    },
    {
      "cell_type": "markdown",
      "metadata": {
        "id": "vXP3ZZK6DCbN",
        "colab_type": "text"
      },
      "source": [
        "2. You have a list of subjects for your experiment, and you want to add another one to that list!  How could you do it?"
      ]
    },
    {
      "cell_type": "code",
      "metadata": {
        "id": "yBS9BpieDCbO",
        "colab_type": "code",
        "colab": {}
      },
      "source": [
        "subjects = ['NOP234', 'GHS673', 'JGL212']\n",
        "new_subject = 'ASF193'"
      ],
      "execution_count": 0,
      "outputs": []
    },
    {
      "cell_type": "code",
      "metadata": {
        "id": "LLRLDLywDCbR",
        "colab_type": "code",
        "colab": {}
      },
      "source": [
        ""
      ],
      "execution_count": 0,
      "outputs": []
    },
    {
      "cell_type": "markdown",
      "metadata": {
        "id": "rTRa5pjiDCbb",
        "colab_type": "text"
      },
      "source": [
        "3. Now, a bunch of new subjects appeared!  How do you extend/append them to the main list?"
      ]
    },
    {
      "cell_type": "code",
      "metadata": {
        "id": "XFxxgE4zDCbd",
        "colab_type": "code",
        "colab": {}
      },
      "source": [
        "subjects = ['NOP234', 'GHS673', 'JGL212']\n",
        "new_subjects = ['ASF193', 'THW994', 'JJZ231']"
      ],
      "execution_count": 0,
      "outputs": []
    },
    {
      "cell_type": "code",
      "metadata": {
        "id": "Fq_tleAIDCbk",
        "colab_type": "code",
        "colab": {}
      },
      "source": [
        ""
      ],
      "execution_count": 0,
      "outputs": []
    },
    {
      "cell_type": "markdown",
      "metadata": {
        "id": "AQkTHuaMDCbu",
        "colab_type": "text"
      },
      "source": [
        "4. Please sort those subjects alphabetically.  It looks better that way, doesn't it?"
      ]
    },
    {
      "cell_type": "code",
      "metadata": {
        "id": "3PNJlhsqDCbv",
        "colab_type": "code",
        "colab": {}
      },
      "source": [
        "subjects = ['NOP234', 'GHS673', 'jGL212', 'ASF193', 'THW994', 'JJZ231']"
      ],
      "execution_count": 0,
      "outputs": []
    },
    {
      "cell_type": "code",
      "metadata": {
        "id": "o8pAoSz7DCby",
        "colab_type": "code",
        "colab": {}
      },
      "source": [
        ""
      ],
      "execution_count": 0,
      "outputs": []
    },
    {
      "cell_type": "markdown",
      "metadata": {
        "id": "X4ap_6q6DCb6",
        "colab_type": "text"
      },
      "source": [
        "5. Oh, no, 'JGL202' was a terrible subject, he intentionally ruined your study.  Well, there's no way you're keeping him.  How do you remove him from the list?"
      ]
    },
    {
      "cell_type": "code",
      "metadata": {
        "id": "aaBRXM6ODCb8",
        "colab_type": "code",
        "colab": {}
      },
      "source": [
        "subjects = ['NOP234', 'GHS673', 'JGL212', 'ASF193', 'THW994', 'JJZ231']"
      ],
      "execution_count": 0,
      "outputs": []
    },
    {
      "cell_type": "markdown",
      "metadata": {
        "id": "7V4_k5lRDCcD",
        "colab_type": "text"
      },
      "source": [
        "## Further Learning Resources"
      ]
    },
    {
      "cell_type": "markdown",
      "metadata": {
        "id": "z4DLSTvTDCcD",
        "colab_type": "text"
      },
      "source": [
        "  - Official Documentation on String Methods: https://docs.python.org/3/library/stdtypes.html#string-methods\n",
        "  \n",
        "  - Online Tutorial on Python Strings: https://realpython.com/python-strings/\n",
        "  \n",
        "  - Official Documentation on List Methods: https://docs.python.org/3/library/stdtypes.html#lists\n",
        "  \n",
        "  - Online Tutorial on Python Lists: https://realpython.com/python-lists-tuples/\n",
        "  \n",
        "  "
      ]
    },
    {
      "cell_type": "markdown",
      "metadata": {
        "id": "U_tfeFGwDCcE",
        "colab_type": "text"
      },
      "source": [
        "## Extra Exercises\n",
        "\n",
        "If you'd like to do some more, here they are!\n",
        "\n",
        "\n",
        "1. You want to label your figure title with the subject code, and the subject code changes depending on which subject is being shown!  How could you stick a subject's name in your title string?"
      ]
    },
    {
      "cell_type": "code",
      "metadata": {
        "id": "87tl9AFWDCcE",
        "colab_type": "code",
        "colab": {}
      },
      "source": [
        "subject = 'NOP234'\n",
        "title = \"Mean Values of SUBJECT NAME's data over Time\""
      ],
      "execution_count": 0,
      "outputs": []
    },
    {
      "cell_type": "code",
      "metadata": {
        "id": "m1bfNCtYDCcI",
        "colab_type": "code",
        "colab": {}
      },
      "source": [
        ""
      ],
      "execution_count": 0,
      "outputs": []
    },
    {
      "cell_type": "markdown",
      "metadata": {
        "id": "Ti_TjP43DCcL",
        "colab_type": "text"
      },
      "source": [
        "2. If you had formatted your title string in the following way, though, another string method would be more useful.  Which method would you use for this title:"
      ]
    },
    {
      "cell_type": "code",
      "metadata": {
        "id": "40oG5ff-DCcM",
        "colab_type": "code",
        "colab": {}
      },
      "source": [
        "subject1 = 'NOP234'\n",
        "subject2 = 'GHS673'\n",
        "title = \"Performance Comparison between Subjects {} and {}\""
      ],
      "execution_count": 0,
      "outputs": []
    },
    {
      "cell_type": "code",
      "metadata": {
        "id": "dWlKNAiCDCcO",
        "colab_type": "code",
        "colab": {}
      },
      "source": [
        ""
      ],
      "execution_count": 0,
      "outputs": []
    },
    {
      "cell_type": "markdown",
      "metadata": {
        "id": "RyrF1IBrDCcS",
        "colab_type": "text"
      },
      "source": [
        "3. The conference says it only takes abstracts that have a maximum word count of 100 words.  Did our abstract make the cut?  \n",
        "\n",
        "*Hint: the len() function is useful here*"
      ]
    },
    {
      "cell_type": "code",
      "metadata": {
        "id": "YLK37z6VDCcT",
        "colab_type": "code",
        "colab": {}
      },
      "source": [
        "abstract = \"\"\"We analyze the locomotor behavior of the rat during exploration, and show that digitally collected data (time series of positions) provide a sufftcient basis for establishing that the rat uses several distinct modes of motion (first, second, third, and sometimes fourth gear). The distinction between these modes is obtained by first segmenting the time series into sequences of data points occurring between arrests (as ascertained within the resolution of the data acquisition system). The statistical distribution of the maximal amount of motion occurring within each of these episodes is then analyzed and shown to be multi modal. This enables us to decompose motion into distinct modes.\"\"\"\n"
      ],
      "execution_count": 0,
      "outputs": []
    },
    {
      "cell_type": "markdown",
      "metadata": {
        "id": "R1GWUM0tDCcZ",
        "colab_type": "text"
      },
      "source": [
        "Oh, wait, now that I look closer, it actually says that it's a maximum of 100 **unique** words--duplicated words don't count.  How many unique words do we have in our abstract?  (What a strange conference...)\n",
        "\n",
        "\n",
        "*Hint: Try this out with the **set()** class.*"
      ]
    },
    {
      "cell_type": "code",
      "metadata": {
        "id": "Bfm_FQpuDCca",
        "colab_type": "code",
        "colab": {}
      },
      "source": [
        ""
      ],
      "execution_count": 0,
      "outputs": []
    }
  ]
}