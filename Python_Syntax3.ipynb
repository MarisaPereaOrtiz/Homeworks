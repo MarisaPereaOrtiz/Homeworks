{
 "cells": [
  {
   "cell_type": "markdown",
   "metadata": {
    "colab_type": "text",
    "id": "fgXtf60i8SIr"
   },
   "source": [
    "# Intro to Python Syntax, Part 3\n",
    "## Code and Data Assignment"
   ]
  },
  {
   "cell_type": "markdown",
   "metadata": {
    "colab_type": "text",
    "id": "2pQ-KBy68SIv"
   },
   "source": [
    "## Python as an Ecosystem of Functions\n",
    "\n",
    "There are millions of functions that can be used in Python.  To access them, you first have to **import** their **packages/modules**.  Then you can specify the functions inside the packages using the following syntax:\n",
    "\n",
    "```python\n",
    "import package\n",
    "output = package.function(input)\n",
    "```\n",
    "\n",
    "Sometimes, packages have **subpackages** that contain functions, too:\n",
    "\n",
    "```python\n",
    "output = package.subpackage.function(input)\n",
    "```\n",
    "\n",
    "If you only need one subpackage in a function, you can make your lines shorter by importing the subpackage directly:\n",
    "\n",
    "```python\n",
    "from package import subpackage\n",
    "output = subpackage.function(input)\n",
    "```\n",
    "\n",
    "To get a list of functions in a package, try using the **dir()** function.  To learn what the function does, try the **help()** function.\n",
    "\n",
    "```python\n",
    "import math\n",
    "dir(math)\n",
    "help(math.sqrt)\n",
    "```\n"
   ]
  },
  {
   "cell_type": "markdown",
   "metadata": {
    "colab_type": "text",
    "id": "zCDv_oSD8SIx"
   },
   "source": [
    "Let's try out the built-in **math** and **statistics** packages to do some calculating!"
   ]
  },
  {
   "cell_type": "markdown",
   "metadata": {
    "colab_type": "text",
    "id": "A5kmZT_e8SI0"
   },
   "source": [
    "What is the mean of all the integers from 1 to 6?"
   ]
  },
  {
   "cell_type": "code",
   "execution_count": 0,
   "metadata": {
    "colab": {
     "base_uri": "https://localhost:8080/",
     "height": 34
    },
    "colab_type": "code",
    "id": "KACqBWM58SI2",
    "outputId": "d7fa78a0-93bd-41c3-c2cb-86d0cc8af57a"
   },
   "outputs": [
    {
     "data": {
      "text/plain": [
       "3.5"
      ]
     },
     "execution_count": 2,
     "metadata": {
      "tags": []
     },
     "output_type": "execute_result"
    }
   ],
   "source": [
    "import statistics as stat\n",
    "a_list = [1, 2, 3, 4, 5, 6]\n",
    "stat.mean(a_list)"
   ]
  },
  {
   "cell_type": "markdown",
   "metadata": {
    "colab_type": "text",
    "id": "yzvh2PkX8SJC"
   },
   "source": [
    "What is the standard deviation of the integers from 1 to 6?"
   ]
  },
  {
   "cell_type": "code",
   "execution_count": 0,
   "metadata": {
    "colab": {},
    "colab_type": "code",
    "id": "DLEssJzA8SJE"
   },
   "outputs": [],
   "source": [
    "stat.stdev(a_list)"
   ]
  },
  {
   "cell_type": "markdown",
   "metadata": {
    "colab_type": "text",
    "id": "wTjqF4Wq8SJQ"
   },
   "source": [
    "What is the square root of 72?"
   ]
  },
  {
   "cell_type": "code",
   "execution_count": 0,
   "metadata": {
    "colab": {},
    "colab_type": "code",
    "id": "lfpAjQwq8SJR"
   },
   "outputs": [],
   "source": [
    "stat.sqrt(72)"
   ]
  },
  {
   "cell_type": "markdown",
   "metadata": {
    "colab_type": "text",
    "id": "kGShpLkL8SJd"
   },
   "source": [
    "What is pi?"
   ]
  },
  {
   "cell_type": "code",
   "execution_count": 0,
   "metadata": {
    "colab": {
     "base_uri": "https://localhost:8080/"
    },
    "colab_type": "code",
    "id": "K5H0L3f48SJf",
    "outputId": "2660bd84-419c-403a-b573-1c5002a7c032"
   },
   "outputs": [
    {
     "name": "stdout",
     "output_type": "stream",
     "text": [
      "3.141592653589793\n"
     ]
    }
   ],
   "source": [
    "import math\n",
    "pi = math.pi\n",
    "print(pi)"
   ]
  },
  {
   "cell_type": "markdown",
   "metadata": {
    "colab_type": "text",
    "id": "cQWqCh5A8SJl"
   },
   "source": [
    "What how many radians are in 360 degrees?"
   ]
  },
  {
   "cell_type": "code",
   "execution_count": 0,
   "metadata": {
    "colab": {},
    "colab_type": "code",
    "id": "d4izRMkp8SJm"
   },
   "outputs": [],
   "source": [
    "math.radians(360)"
   ]
  },
  {
   "cell_type": "markdown",
   "metadata": {
    "colab_type": "text",
    "id": "h-9GKuAH8SJu"
   },
   "source": [
    "Can you find a package that might have functions for random numbers?  Use it to generate a couple random numbers!"
   ]
  },
  {
   "cell_type": "code",
   "execution_count": 0,
   "metadata": {
    "colab": {},
    "colab_type": "code",
    "id": "6hK3pHWM8SJx"
   },
   "outputs": [],
   "source": [
    "import random\n",
    "\n",
    "for i in range(3):\n",
    "    random.randint(i+1,10)\n"
   ]
  },
  {
   "cell_type": "markdown",
   "metadata": {
    "colab_type": "text",
    "id": "y0ioRxLe8SJ6"
   },
   "source": [
    "Look for names of some more built-in packages online!  Try importing them here."
   ]
  },
  {
   "cell_type": "code",
   "execution_count": 0,
   "metadata": {
    "colab": {
     "base_uri": "https://localhost:8080/"
    },
    "colab_type": "code",
    "id": "pBSGplbA8SJ8",
    "outputId": "abd41fa8-bd87-4f98-8e1e-f95009dbec93"
   },
   "outputs": [
    {
     "data": {
      "image/png": "[encoded data removed]",
      "text/plain": [
       "<Figure size 432x288 with 1 Axes>"
      ]
     },
     "metadata": {
      "tags": []
     },
     "output_type": "display_data"
    }
   ],
   "source": [
    "import numpy as np\n",
    "import matplotlib.pyplot as plt\n",
    "import matplotlib.patches as mpatches\n",
    "\n",
    "x = np.arange(0, 10, 0.005)\n",
    "y = np.exp(-x/2.) * np.sin(2*np.pi*x)\n",
    "\n",
    "plt.plot(x, y)\n",
    "plt.xlim(-0.1, 10)\n",
    "plt.ylim(-1, 1)\n",
    "plt.show()"
   ]
  },
  {
   "cell_type": "markdown",
   "metadata": {
    "colab_type": "text",
    "id": "S13DQMYI8SKG"
   },
   "source": [
    "## Python as State Machine\n",
    "\n",
    "Python can save all of its **objects** to your computer's internal memory by **assigning** a a **name** to it.  This is like giving the object a tag that can be referenced later, and it has many subtleties that we'll be exploring throughout the course.  Here's the syntax:\n",
    "\n",
    "```\n",
    "name = data\n",
    "```\n",
    "\n",
    "For example:\n",
    "\n",
    "```python\n",
    "x = 3\n",
    "nick = 100\n",
    "j_people = [\"John\", \"Jeff\", \"Judy\", \"Jenny\"]\n",
    "x2 = 4\n",
    "```\n",
    "\n",
    "While it looks like a normal math expression, this is, in reality, a **statement**; it changes the state of the program.  Let's explore it here:\n",
    "\n"
   ]
  },
  {
   "cell_type": "markdown",
   "metadata": {
    "colab_type": "text",
    "id": "C_XUJAQV8SKH"
   },
   "source": [
    "#### Exercises"
   ]
  },
  {
   "cell_type": "markdown",
   "metadata": {
    "colab_type": "text",
    "id": "7whushFf8SKH"
   },
   "source": [
    "What should **x** equal?\n",
    "```python\n",
    "x = 3\n",
    "x = 4\n",
    "```"
   ]
  },
  {
   "cell_type": "code",
   "execution_count": 0,
   "metadata": {
    "colab": {
     "base_uri": "https://localhost:8080/",
     "height": 34
    },
    "colab_type": "code",
    "id": "3vJ35qZq8SKI",
    "outputId": "a5498408-3871-4fa3-e8e0-2cbb4ded6f44"
   },
   "outputs": [
    {
     "name": "stdout",
     "output_type": "stream",
     "text": [
      "4\n"
     ]
    }
   ],
   "source": [
    "x = 3\n",
    "x = 4\n",
    "print(x)"
   ]
  },
  {
   "cell_type": "markdown",
   "metadata": {
    "colab_type": "text",
    "id": "3MTtig698SKN"
   },
   "source": [
    "```python\n",
    "x = 3\n",
    "x = x + 1\n",
    "x = x + 1\n",
    "x = x + 1\n",
    "```"
   ]
  },
  {
   "cell_type": "code",
   "execution_count": 0,
   "metadata": {
    "colab": {
     "base_uri": "https://localhost:8080/",
     "height": 34
    },
    "colab_type": "code",
    "id": "W9m4jWU88SKO",
    "outputId": "e0ea0d99-d8af-427d-ed04-507d2a010de3"
   },
   "outputs": [
    {
     "name": "stdout",
     "output_type": "stream",
     "text": [
      "6\n"
     ]
    }
   ],
   "source": [
    "x = 3\n",
    "x = x + 1\n",
    "x = x + 1\n",
    "x = x + 1\n",
    "print(x)"
   ]
  },
  {
   "cell_type": "markdown",
   "metadata": {
    "colab_type": "text",
    "id": "zJ1rl_Pg8SKa"
   },
   "source": [
    "```python\n",
    "x = 3\n",
    "x += 1\n",
    "x += 1\n",
    "x += 1\n",
    "```"
   ]
  },
  {
   "cell_type": "code",
   "execution_count": 0,
   "metadata": {
    "colab": {
     "base_uri": "https://localhost:8080/",
     "height": 34
    },
    "colab_type": "code",
    "id": "Oi1ORK9M8SKc",
    "outputId": "f8751bee-329a-4d26-83f6-316a14756e90"
   },
   "outputs": [
    {
     "name": "stdout",
     "output_type": "stream",
     "text": [
      "6\n"
     ]
    }
   ],
   "source": [
    "x = 3\n",
    "x += 1\n",
    "x += 1\n",
    "x += 1\n",
    "print(x)"
   ]
  },
  {
   "cell_type": "markdown",
   "metadata": {
    "colab_type": "text",
    "id": "yGAVJ_lF8SKf"
   },
   "source": [
    "```python\n",
    "x = \"Nick\"\n",
    "x = 0\n",
    "```"
   ]
  },
  {
   "cell_type": "code",
   "execution_count": 0,
   "metadata": {
    "colab": {
     "base_uri": "https://localhost:8080/",
     "height": 34
    },
    "colab_type": "code",
    "id": "2s2z548R8SKg",
    "outputId": "1059a2ce-f4f4-4eb6-954c-66863bb00daf"
   },
   "outputs": [
    {
     "name": "stdout",
     "output_type": "stream",
     "text": [
      "0\n"
     ]
    }
   ],
   "source": [
    "x = 'Nick'\n",
    "x = 0\n",
    "print(x)"
   ]
  },
  {
   "cell_type": "markdown",
   "metadata": {
    "colab_type": "text",
    "id": "ws4oJTcX8SKo"
   },
   "source": [
    "```python\n",
    "max = sum\n",
    "x = max([1, 2, 3])\n",
    "```"
   ]
  },
  {
   "cell_type": "code",
   "execution_count": 0,
   "metadata": {
    "colab": {
     "base_uri": "https://localhost:8080/",
     "height": 34
    },
    "colab_type": "code",
    "id": "-0Db770k8SKp",
    "outputId": "f8d6cfc8-a527-49d9-8c1e-2ef703998adb"
   },
   "outputs": [
    {
     "name": "stdout",
     "output_type": "stream",
     "text": [
      "6\n"
     ]
    }
   ],
   "source": [
    "max = sum\n",
    "x = max([1, 2, 3])\n",
    "print(x)"
   ]
  },
  {
   "cell_type": "markdown",
   "metadata": {
    "colab_type": "text",
    "id": "nIRhxfpi8SKw"
   },
   "source": [
    "```python\n",
    "max = sum\n",
    "x = sum([1, 2, 3])\n",
    "```"
   ]
  },
  {
   "cell_type": "code",
   "execution_count": 0,
   "metadata": {
    "colab": {
     "base_uri": "https://localhost:8080/",
     "height": 34
    },
    "colab_type": "code",
    "id": "Sx9Rz3cl8SKy",
    "outputId": "07bd8a9c-c062-456c-df36-49432f001bb8"
   },
   "outputs": [
    {
     "name": "stdout",
     "output_type": "stream",
     "text": [
      "6\n"
     ]
    }
   ],
   "source": [
    "max = sum\n",
    "x = sum([1, 2, 3])\n",
    "print(x)"
   ]
  },
  {
   "cell_type": "markdown",
   "metadata": {
    "colab_type": "text",
    "id": "5KOAK-yS8SK2"
   },
   "source": [
    "```python\n",
    "x = [1, 2, 3]\n",
    "x[1] = 4\n",
    "```"
   ]
  },
  {
   "cell_type": "code",
   "execution_count": 0,
   "metadata": {
    "colab": {
     "base_uri": "https://localhost:8080/",
     "height": 34
    },
    "colab_type": "code",
    "id": "QHK4hIfL8SK3",
    "outputId": "a9c3f987-be22-44c7-c616-02d1b30d3979"
   },
   "outputs": [
    {
     "name": "stdout",
     "output_type": "stream",
     "text": [
      "[1, 4, 3]\n"
     ]
    }
   ],
   "source": [
    "x = [1, 2, 3]\n",
    "x[1] = 4\n",
    "print(x)"
   ]
  },
  {
   "cell_type": "markdown",
   "metadata": {
    "colab_type": "text",
    "id": "z_hkmqzC8SK7"
   },
   "source": [
    "```python\n",
    "x = [1, 2, 3]\n",
    "x[-1] = 4\n",
    "```"
   ]
  },
  {
   "cell_type": "code",
   "execution_count": 0,
   "metadata": {
    "colab": {
     "base_uri": "https://localhost:8080/",
     "height": 34
    },
    "colab_type": "code",
    "id": "TlHQ_0ke8SK8",
    "outputId": "da1b945d-69df-4189-9def-1aef7c682c3e"
   },
   "outputs": [
    {
     "name": "stdout",
     "output_type": "stream",
     "text": [
      "[1, 2, 4]\n"
     ]
    }
   ],
   "source": [
    "x = [1, 2, 3]\n",
    "x[-1] = 4\n",
    "print(x)"
   ]
  },
  {
   "cell_type": "markdown",
   "metadata": {
    "colab_type": "text",
    "id": "pVXLYDwL8SLC"
   },
   "source": [
    "```python\n",
    "x = [1, 2, 3]\n",
    "x[0] = 4\n",
    "```"
   ]
  },
  {
   "cell_type": "code",
   "execution_count": 0,
   "metadata": {
    "colab": {
     "base_uri": "https://localhost:8080/",
     "height": 34
    },
    "colab_type": "code",
    "id": "Cptumghv8SLD",
    "outputId": "268a28e9-56a7-4e71-ac8a-c67e9b5594e2"
   },
   "outputs": [
    {
     "name": "stdout",
     "output_type": "stream",
     "text": [
      "[4, 2, 3]\n"
     ]
    }
   ],
   "source": [
    "x = [1, 2, 3]\n",
    "x[0] = 4\n",
    "print(x)"
   ]
  },
  {
   "cell_type": "markdown",
   "metadata": {
    "colab_type": "text",
    "id": "60MXPSFM8SLG"
   },
   "source": [
    "```python\n",
    "x = [1, 2, 3]\n",
    "x = x[1]\n",
    "x *= 2\n",
    "```"
   ]
  },
  {
   "cell_type": "code",
   "execution_count": 0,
   "metadata": {
    "colab": {
     "base_uri": "https://localhost:8080/",
     "height": 34
    },
    "colab_type": "code",
    "id": "0TAsDshW8SLH",
    "outputId": "3e9fb467-ccf9-4150-c5b8-53e7d2075f2a"
   },
   "outputs": [
    {
     "name": "stdout",
     "output_type": "stream",
     "text": [
      "4\n"
     ]
    }
   ],
   "source": [
    "x = [1, 2, 3]\n",
    "x = x[1]\n",
    "x *= 2\n",
    "print(x)"
   ]
  },
  {
   "cell_type": "markdown",
   "metadata": {
    "colab_type": "text",
    "id": "wHUR44o78SLK"
   },
   "source": [
    "### Mapping Collections: Transforming Each Element of a Collection\n",
    "\n",
    "Often, you want to do something to the data inside your collection--double it, increase it, compute some metric, etc.  \n",
    "At the end, you still have the same *number* of elements, but the values themselves have changed.  \n",
    "We will be looking at lots of ways to accomplish this in  Python, but first we're going to use a **for-loop** in a format called a **comprehension**.\n",
    "\n",
    "Comprehensions produce a new collection containing new values *\"for each\"* value *in* the original collection.  They look like this:\n",
    "\n",
    "```python\n",
    ">>> data = [1, 2, 3]\n",
    ">>> list(x * 2 for x in data)\n",
    "[1, 4, 9]\n",
    "```\n",
    "\n",
    "The code above does the same as the following:\n",
    "```python\n",
    ">>> data = [1, 2, 3]\n",
    ">>> [data[0] * 2, data[1] * 2, data[2] * 2]\n",
    "[1, 4, 9]\n",
    "```\n",
    "\n",
    "Another example:\n",
    "\n",
    "```python\n",
    ">>> data = [1, 2, 3]\n",
    ">>> tuple(math.sqrt(value) + 2 for value in data)\n",
    "(3.0, 3.414, 3.732)\n",
    "```\n",
    "\n",
    "```python\n",
    ">>> data = [1, 2, 3]\n",
    ">>> (math.sqrt(data[0]) + 2, math.sqrt(data[1]) + 2, math.sqrt(data[2]) + 2)\n",
    "(3.0, 3.414, 3.732)\n",
    "```\n",
    "\n",
    "Notice that the variable **x** and **value** are created without using the assignment operator! You can name this anything you want, and it is created anew for each individual element of the collection.\n",
    "\n",
    "For lists, Python has a shortcut (called a **list comprehension**):\n",
    "\n",
    "```python\n",
    ">>> data = [1, 2, 3]\n",
    ">>> [x * 2 for x in data]\n",
    "[1, 4, 9]\n",
    "```\n",
    "\n",
    "There is also one for dict (**\"dict comprehensions\"**), but not for any other type.  See below:\n",
    "\n",
    "```python\n",
    ">>> data = [1, 2, 3]\n",
    ">>> {x: x * 2 for x in data}\n",
    "{1: 1, 2: 4, 3: 9}\n",
    "```"
   ]
  },
  {
   "cell_type": "markdown",
   "metadata": {
    "colab_type": "text",
    "id": "SVolCDAe8SLL"
   },
   "source": [
    "**Exercises**: Transform each value in the given collection into the requested collection type using the requested transformation\n",
    "\n",
    "Example: A tuple of each value in \"data\", with each value increased by 3\n",
    "```python\n",
    ">>> data = [10, 20, 30]\n",
    ">>> tuple(x + 3 for x in data)\n",
    "(13, 23, 33)\n",
    "```"
   ]
  },
  {
   "cell_type": "markdown",
   "metadata": {
    "colab_type": "text",
    "id": "PWBU8UNb8SLL"
   },
   "source": [
    "1. Make a list that adds 1 to each value in \"data\":"
   ]
  },
  {
   "cell_type": "code",
   "execution_count": 0,
   "metadata": {
    "colab": {
     "base_uri": "https://localhost:8080/",
     "height": 34
    },
    "colab_type": "code",
    "id": "dhwvuG_l8SLM",
    "outputId": "772d5fa1-e6c4-4a47-ac50-35c00371aae0"
   },
   "outputs": [
    {
     "data": {
      "text/plain": [
       "[2, 3, 4]"
      ]
     },
     "execution_count": 15,
     "metadata": {
      "tags": []
     },
     "output_type": "execute_result"
    }
   ],
   "source": [
    "data = [1, 2, 3]\n",
    "[x + 1 for x in data]"
   ]
  },
  {
   "cell_type": "markdown",
   "metadata": {
    "colab_type": "text",
    "id": "LkAno66v8SLT"
   },
   "source": [
    "2. Make a tuple that calculates the absolute value of each element in \"data\", using the built-in abs() function:"
   ]
  },
  {
   "cell_type": "code",
   "execution_count": 0,
   "metadata": {
    "colab": {
     "base_uri": "https://localhost:8080/",
     "height": 34
    },
    "colab_type": "code",
    "id": "c4alf8r48SLU",
    "outputId": "26aa7066-e260-47b1-868c-477a9b28d92b"
   },
   "outputs": [
    {
     "data": {
      "text/plain": [
       "(2, 1, 0, 1, 2)"
      ]
     },
     "execution_count": 16,
     "metadata": {
      "tags": []
     },
     "output_type": "execute_result"
    }
   ],
   "source": [
    "data = (-2, -1, 0, 1, 2)\n",
    "tuple(abs(x) for x in data)"
   ]
  },
  {
   "cell_type": "markdown",
   "metadata": {
    "colab_type": "text",
    "id": "di8bfcAo8SLZ"
   },
   "source": [
    "2b. Make a list of the cosines of each value in \"data\":"
   ]
  },
  {
   "cell_type": "code",
   "execution_count": 0,
   "metadata": {
    "colab": {
     "base_uri": "https://localhost:8080/",
     "height": 123
    },
    "colab_type": "code",
    "id": "n5mh2VEP8SLd",
    "outputId": "fdaf2b8c-6f55-47a0-9eda-7aa25d2d11f0"
   },
   "outputs": [
    {
     "data": {
      "text/plain": [
       "[-0.4161468365471424,\n",
       " 0.5403023058681398,\n",
       " 1.0,\n",
       " 0.5403023058681398,\n",
       " -0.4161468365471424,\n",
       " -0.9899924966004454]"
      ]
     },
     "execution_count": 17,
     "metadata": {
      "tags": []
     },
     "output_type": "execute_result"
    }
   ],
   "source": [
    "import math\n",
    "data = (-2, -1, 0, 1, 2, 3)\n",
    "[math.cos(x) for x in data]"
   ]
  },
  {
   "cell_type": "markdown",
   "metadata": {
    "colab_type": "text",
    "id": "wB6LtBls8SLm"
   },
   "source": [
    "2c. Round all these numbers to the nearest integer (use the \"round()\" function):"
   ]
  },
  {
   "cell_type": "code",
   "execution_count": 0,
   "metadata": {
    "colab": {
     "base_uri": "https://localhost:8080/",
     "height": 34
    },
    "colab_type": "code",
    "id": "UlRbC1zz8SLo",
    "outputId": "6867db4b-b243-4690-a256-3e8c182a7568"
   },
   "outputs": [
    {
     "data": {
      "text/plain": [
       "[1, 2, 1, -2]"
      ]
     },
     "execution_count": 18,
     "metadata": {
      "tags": []
     },
     "output_type": "execute_result"
    }
   ],
   "source": [
    "data = [1.2, 1.5, 0.7, -2.1]\n",
    "[round(x) for x in data]"
   ]
  },
  {
   "cell_type": "markdown",
   "metadata": {
    "colab_type": "text",
    "id": "-SZXNxl18SLs"
   },
   "source": [
    "3. Make a list of all the first letters of each name in the list:"
   ]
  },
  {
   "cell_type": "code",
   "execution_count": 0,
   "metadata": {
    "colab": {
     "base_uri": "https://localhost:8080/",
     "height": 34
    },
    "colab_type": "code",
    "id": "fssr83r68SLt",
    "outputId": "e361963a-712e-4b47-aafd-94a2cdb16f12"
   },
   "outputs": [
    {
     "data": {
      "text/plain": [
       "['J', 'H', 'M', 'L']"
      ]
     },
     "execution_count": 19,
     "metadata": {
      "tags": []
     },
     "output_type": "execute_result"
    }
   ],
   "source": [
    "data = [\"John\", \"Harry\", \"Moe\", \"Luke\"]\n",
    "[x[0] for x in data]"
   ]
  },
  {
   "cell_type": "markdown",
   "metadata": {
    "colab_type": "text",
    "id": "ZltRNz-a8SLx"
   },
   "source": [
    "4. Make a tuple of the lengths of each name:"
   ]
  },
  {
   "cell_type": "code",
   "execution_count": 0,
   "metadata": {
    "colab": {
     "base_uri": "https://localhost:8080/",
     "height": 34
    },
    "colab_type": "code",
    "id": "oV7BzZzw8SLy",
    "outputId": "77bd7500-f974-4ccc-c006-8ef09a06393b"
   },
   "outputs": [
    {
     "data": {
      "text/plain": [
       "(4, 5, 3, 4)"
      ]
     },
     "execution_count": 20,
     "metadata": {
      "tags": []
     },
     "output_type": "execute_result"
    }
   ],
   "source": [
    "data = [\"John\", \"Harry\", \"Moe\", \"Luke\"]\n",
    "tuple(len(x) for x in data)"
   ]
  },
  {
   "cell_type": "markdown",
   "metadata": {
    "colab_type": "text",
    "id": "nkKwMsmg8SL4"
   },
   "source": [
    "5. Make a dictionary that maps all the words in the list to their length:"
   ]
  },
  {
   "cell_type": "code",
   "execution_count": 0,
   "metadata": {
    "colab": {
     "base_uri": "https://localhost:8080/",
     "height": 34
    },
    "colab_type": "code",
    "id": "xAcbdqWs8SL4",
    "outputId": "2bb73048-e313-43c6-f08d-65cb54309022"
   },
   "outputs": [
    {
     "data": {
      "text/plain": [
       "{'Harry': 5, 'John': 4, 'Luke': 4, 'Moe': 3}"
      ]
     },
     "execution_count": 21,
     "metadata": {
      "tags": []
     },
     "output_type": "execute_result"
    }
   ],
   "source": [
    "data = [\"John\", \"Harry\", \"Moe\", \"Luke\"]\n",
    "{x : len(x) for x in data}"
   ]
  },
  {
   "cell_type": "markdown",
   "metadata": {
    "colab_type": "text",
    "id": "5Z3D76bZ8SL_"
   },
   "source": [
    "6. Make a set of all the word lengths in the tuple:"
   ]
  },
  {
   "cell_type": "code",
   "execution_count": 0,
   "metadata": {
    "colab": {
     "base_uri": "https://localhost:8080/",
     "height": 34
    },
    "colab_type": "code",
    "id": "q_z-2pwy8SMB",
    "outputId": "5a2efed7-f6a7-4677-a7d7-477061ce811e"
   },
   "outputs": [
    {
     "data": {
      "text/plain": [
       "{3, 4, 5}"
      ]
     },
     "execution_count": 22,
     "metadata": {
      "tags": []
     },
     "output_type": "execute_result"
    }
   ],
   "source": [
    "data = (\"John\", \"Harry\", \"Moe\", \"Luke\")\n",
    "set(len(x) for x in data)"
   ]
  },
  {
   "cell_type": "markdown",
   "metadata": {
    "colab_type": "text",
    "id": "-KUJf1oS8SMF"
   },
   "source": [
    "### Filtering Collections\n",
    "\n",
    "What if you only want to include *some* values in a collection?  With the **if** statement and a **logical expression**, you can do it in a comprehension!  For example:\n",
    "\n",
    "```python\n",
    ">>> data = [1, 2, 3, 4]\n",
    ">>> [x for x in data if x > 2]\n",
    "[3, 4]\n",
    "```\n",
    "\n",
    "This can be combined with various transformations as well!\n",
    "\n",
    "```python\n",
    ">>> data = [\"John\", \"Harry\", \"Moe\", \"Luke\"]\n",
    ">>> [x[0] for x in data if len(x) < 5]\n",
    "[\"J\", \"M\", \"L\"]\n",
    "```"
   ]
  },
  {
   "cell_type": "markdown",
   "metadata": {
    "colab_type": "text",
    "id": "OY9YB3Bk8SMG"
   },
   "source": [
    "**Exercises**:"
   ]
  },
  {
   "cell_type": "markdown",
   "metadata": {
    "colab_type": "text",
    "id": "QR7aC-as8SMH"
   },
   "source": [
    "Get All positive values in the following list:"
   ]
  },
  {
   "cell_type": "code",
   "execution_count": 0,
   "metadata": {
    "colab": {
     "base_uri": "https://localhost:8080/",
     "height": 34
    },
    "colab_type": "code",
    "id": "LZdUA4rc8SMI",
    "outputId": "8e47fc9d-e31b-482a-81b1-a2c5fe12f535"
   },
   "outputs": [
    {
     "data": {
      "text/plain": [
       "[3, 10, 0]"
      ]
     },
     "execution_count": 24,
     "metadata": {
      "tags": []
     },
     "output_type": "execute_result"
    }
   ],
   "source": [
    "data = [-6, 3, -1, 10, -5, 0]\n",
    "[x for x in data if x >= 0]"
   ]
  },
  {
   "cell_type": "markdown",
   "metadata": {
    "colab_type": "text",
    "id": "6JuobYOa8SMN"
   },
   "source": [
    "Make a tuple of all names that start with the letter \"L\":"
   ]
  },
  {
   "cell_type": "code",
   "execution_count": 0,
   "metadata": {
    "colab": {
     "base_uri": "https://localhost:8080/",
     "height": 34
    },
    "colab_type": "code",
    "id": "Y8Rpapm08SMO",
    "outputId": "c0c667e2-9dfd-4557-ec38-2cc61bb6777e"
   },
   "outputs": [
    {
     "data": {
      "text/plain": [
       "('Luke',)"
      ]
     },
     "execution_count": 25,
     "metadata": {
      "tags": []
     },
     "output_type": "execute_result"
    }
   ],
   "source": [
    "data = (\"John\", \"Harry\", \"Moe\", \"Luke\")\n",
    "tuple(x for x in data if x[0] == 'L')"
   ]
  },
  {
   "cell_type": "markdown",
   "metadata": {
    "colab_type": "text",
    "id": "Fq6kDANz8SMR"
   },
   "source": [
    "Make a list of all names that have more than 3 letters in the name:"
   ]
  },
  {
   "cell_type": "code",
   "execution_count": 0,
   "metadata": {
    "colab": {
     "base_uri": "https://localhost:8080/",
     "height": 34
    },
    "colab_type": "code",
    "id": "uCQvOK_R8SMS",
    "outputId": "8fbf0642-d50d-4107-bd50-7b6d7c5feb05"
   },
   "outputs": [
    {
     "data": {
      "text/plain": [
       "['John', 'Harry', 'Luke']"
      ]
     },
     "execution_count": 26,
     "metadata": {
      "tags": []
     },
     "output_type": "execute_result"
    }
   ],
   "source": [
    "data = (\"John\", \"Harry\", \"Moe\", \"Luke\")\n",
    "[x for x in data if len(x) > 3]"
   ]
  },
  {
   "cell_type": "markdown",
   "metadata": {
    "colab_type": "text",
    "id": "CzsvULN08SMW"
   },
   "source": [
    "Make a list of the last letter of all names that have more than 3 letters in the name:"
   ]
  },
  {
   "cell_type": "code",
   "execution_count": 0,
   "metadata": {
    "colab": {
     "base_uri": "https://localhost:8080/",
     "height": 34
    },
    "colab_type": "code",
    "id": "65djEHSL8SMX",
    "outputId": "25585182-55b4-4cc5-f53d-f8c4256dd772"
   },
   "outputs": [
    {
     "data": {
      "text/plain": [
       "['n', 'y', 'e']"
      ]
     },
     "execution_count": 27,
     "metadata": {
      "tags": []
     },
     "output_type": "execute_result"
    }
   ],
   "source": [
    "data = (\"John\", \"Harry\", \"Moe\", \"Luke\")\n",
    "[x[-1] for x in data if len(x) > 3]"
   ]
  },
  {
   "cell_type": "markdown",
   "metadata": {
    "colab_type": "text",
    "id": "7XkZaqkA8SMa"
   },
   "source": [
    "Make a list of all values who have positive cosines:"
   ]
  },
  {
   "cell_type": "code",
   "execution_count": 0,
   "metadata": {
    "colab": {
     "base_uri": "https://localhost:8080/",
     "height": 34
    },
    "colab_type": "code",
    "id": "Ui2nmvq98SMb",
    "outputId": "e62463d4-4b8d-456e-d987-09cb83425f29"
   },
   "outputs": [
    {
     "data": {
      "text/plain": [
       "[1, 5, 6, 7]"
      ]
     },
     "execution_count": 28,
     "metadata": {
      "tags": []
     },
     "output_type": "execute_result"
    }
   ],
   "source": [
    "import math\n",
    "data = [1, 2, 3, 4, 5, 6, 7]\n",
    "[x for x in data if math.cos(x) >= 0]"
   ]
  },
  {
   "cell_type": "markdown",
   "metadata": {
    "colab_type": "text",
    "id": "dS2P6Xwo8SMe"
   },
   "source": [
    "Make a dictionary, mapping each name to its length, but only if the sine of its length is positive:"
   ]
  },
  {
   "cell_type": "code",
   "execution_count": 0,
   "metadata": {
    "colab": {
     "base_uri": "https://localhost:8080/",
     "height": 34
    },
    "colab_type": "code",
    "id": "8SIrcBPA8SMf",
    "outputId": "87a985b7-9199-4f9c-fc5f-d30e2c723e98"
   },
   "outputs": [
    {
     "data": {
      "text/plain": [
       "{'Harry': 5}"
      ]
     },
     "execution_count": 29,
     "metadata": {
      "tags": []
     },
     "output_type": "execute_result"
    }
   ],
   "source": [
    "import math\n",
    "data = [\"John\", \"Harry\", \"Moe\", \"Luke\"]\n",
    "{x : len(x) for x in data if math.cos(len(x)) >= 0}"
   ]
  },
  {
   "cell_type": "markdown",
   "metadata": {
    "colab_type": "text",
    "id": "RO0T-7L98SMk"
   },
   "source": [
    "### Combining Them: Filtering, Transforming, and Aggregating\n",
    "\n",
    "Okay, let's combine everything together into a single step!  To get the minimum value of the squares of all values less than 0 in the following list:\n",
    "\n",
    "```python\n",
    ">>> data = [-5, -3, 1, 2, 3]\n",
    ">>> min(x ** 2 for x in data if x < 0)\n",
    "9\n",
    "```\n",
    "\n",
    "Let's try it out!"
   ]
  },
  {
   "cell_type": "markdown",
   "metadata": {
    "colab_type": "text",
    "id": "bC_GslLb8SMl"
   },
   "source": [
    "**Exercises**:"
   ]
  },
  {
   "cell_type": "markdown",
   "metadata": {
    "colab_type": "text",
    "id": "CNxm4UnD8SMm"
   },
   "source": [
    "The sum of all squares for all values in the dataset [1, 7, 3, 4, 9] greater than 4."
   ]
  },
  {
   "cell_type": "code",
   "execution_count": 0,
   "metadata": {
    "colab": {
     "base_uri": "https://localhost:8080/",
     "height": 34
    },
    "colab_type": "code",
    "id": "vEOrgeL08SMn",
    "outputId": "62cab2d8-7ef4-4d6d-e6f9-7b3853dbed19"
   },
   "outputs": [
    {
     "data": {
      "text/plain": [
       "130"
      ]
     },
     "execution_count": 30,
     "metadata": {
      "tags": []
     },
     "output_type": "execute_result"
    }
   ],
   "source": [
    "data = [1, 7, 3, 4, 9]\n",
    "sum(x**2 for x in data if x > 4)"
   ]
  },
  {
   "cell_type": "markdown",
   "metadata": {
    "colab_type": "text",
    "id": "3j6wreqA8SMs"
   },
   "source": [
    "The minimum length of all names in the list who has at least 4 unique letters in their name: [\"Bobby\", \"Cindy\", \"Anna\", \"Joshua\", \"Alan\", \"Hannah\", \"Jeffrey\"]"
   ]
  },
  {
   "cell_type": "code",
   "execution_count": 0,
   "metadata": {
    "colab": {
     "base_uri": "https://localhost:8080/",
     "height": 34
    },
    "colab_type": "code",
    "id": "AikxVixs8SMt",
    "outputId": "1f795532-2525-4182-e27c-cd97037a542b"
   },
   "outputs": [
    {
     "data": {
      "text/plain": [
       "5"
      ]
     },
     "execution_count": 51,
     "metadata": {
      "tags": []
     },
     "output_type": "execute_result"
    }
   ],
   "source": [
    "data = [\"Bobby\", \"Cindy\", \"Anna\", \"Joshua\", \"Alan\", \"Hannah\", \"Jeffrey\"]\n",
    "\n",
    "min(len(x) for x in data if len(set(x.lower())) > 4)\n",
    "\n",
    "\n"
   ]
  },
  {
   "cell_type": "markdown",
   "metadata": {
    "colab_type": "text",
    "id": "lVkRUS9w8SMx"
   },
   "source": [
    "The total length of all the names in the list that starts with an \"R\": [\"Joey\", \"Monica\", \"Chandler\", \"Rachel\", \"Ross\", \"Phoebe\"]"
   ]
  },
  {
   "cell_type": "code",
   "execution_count": 0,
   "metadata": {
    "colab": {
     "base_uri": "https://localhost:8080/",
     "height": 34
    },
    "colab_type": "code",
    "id": "1BmJ7NJj8SMx",
    "outputId": "8897556f-4f7b-4684-9ee9-25773fcb2cd3"
   },
   "outputs": [
    {
     "data": {
      "text/plain": [
       "10"
      ]
     },
     "execution_count": 54,
     "metadata": {
      "tags": []
     },
     "output_type": "execute_result"
    }
   ],
   "source": [
    "data = [\"Joey\", \"Monica\", \"Chandler\", \"Rachel\", \"Ross\", \"Phoebe\"]\n",
    "sum(len(x) for x in data if x[0] == 'R')"
   ]
  },
  {
   "cell_type": "code",
   "execution_count": 0,
   "metadata": {
    "colab": {},
    "colab_type": "code",
    "id": "K5B37A8M8SM7"
   },
   "outputs": [],
   "source": []
  },
  {
   "cell_type": "markdown",
   "metadata": {
    "colab_type": "text",
    "id": "2rLWAmZ18SM_"
   },
   "source": [
    "### Chaining Them: Repeatedly Filtering and Transforming before Aggregating\n",
    "Often, data analysis pipelines require multiple repeated transforms and filters before the analysis is complete.  This can get quite unwieldy, to say the least.  For example:"
   ]
  },
  {
   "cell_type": "code",
   "execution_count": 0,
   "metadata": {
    "colab": {},
    "colab_type": "code",
    "id": "5TxZl8e_8SM_",
    "outputId": "0eaa7ca1-450b-4649-a6a0-fe0f75a802a7"
   },
   "outputs": [
    {
     "data": {
      "text/plain": [
       "(16,)"
      ]
     },
     "execution_count": 21,
     "metadata": {
      "tags": []
     },
     "output_type": "execute_result"
    }
   ],
   "source": [
    "tuple(x for x in (x ** 2 for x in (len(x) for x in (x for x in [\"Joey\", \"Monica\", \"Chandler\", \"Rachel\", \"Ross\", \"Phoebe\"]) if x[0] == 'R') if x < 10) if x < 36)"
   ]
  },
  {
   "cell_type": "markdown",
   "metadata": {
    "colab_type": "text",
    "id": "jp2Wx-B18SNF"
   },
   "source": [
    "You could split this into multiple lines, but it doesn't always help keep it readable.  For example:"
   ]
  },
  {
   "cell_type": "code",
   "execution_count": 0,
   "metadata": {
    "colab": {},
    "colab_type": "code",
    "id": "uYndCkHP8SNF",
    "outputId": "8fd3f3d9-ed40-46d4-cd62-23d0209ea573"
   },
   "outputs": [
    {
     "data": {
      "text/plain": [
       "(16,)"
      ]
     },
     "execution_count": 22,
     "metadata": {
      "tags": []
     },
     "output_type": "execute_result"
    }
   ],
   "source": [
    "tuple \\\n",
    "(x for x in \n",
    "(x ** 2 for x in \n",
    "(len(x) for x in\n",
    "(x for x in \n",
    "[\"Joey\", \"Monica\", \"Chandler\", \"Rachel\", \"Ross\", \"Phoebe\"])\n",
    "if x[0] == 'R')\n",
    "if x < 10) \n",
    "if x < 36)"
   ]
  },
  {
   "cell_type": "markdown",
   "metadata": {
    "colab_type": "text",
    "id": "ek7Ws00d8SNM"
   },
   "source": [
    "The simplest way is to just split it into multiple steps:"
   ]
  },
  {
   "cell_type": "code",
   "execution_count": 0,
   "metadata": {
    "colab": {},
    "colab_type": "code",
    "id": "miteGi4B8SNN",
    "outputId": "c8ed9a62-e6a6-4fce-aeb5-8b3f67106a72"
   },
   "outputs": [
    {
     "data": {
      "text/plain": [
       "(16,)"
      ]
     },
     "execution_count": 24,
     "metadata": {
      "tags": []
     },
     "output_type": "execute_result"
    }
   ],
   "source": [
    "friends = [\"Joey\", \"Monica\", \"Chandler\", \"Rachel\", \"Ross\", \"Phoebe\"]\n",
    "friends = [len(x) for x in friends if x[0] == 'R']\n",
    "friends = [x ** 2 for x in friends if x < 10]\n",
    "tuple(x for x in friends if x < 36)"
   ]
  },
  {
   "cell_type": "markdown",
   "metadata": {
    "colab_type": "text",
    "id": "jHEcmNW18SNS"
   },
   "source": [
    "This is a little better, but it can be a lot simpler.  We will be looking at many ways to make it easier for us to transform and filter data in later units."
   ]
  },
  {
   "cell_type": "markdown",
   "metadata": {
    "colab_type": "text",
    "id": "rwn0BYP58SNT"
   },
   "source": [
    "## Review: Class Discussion\n",
    "\n",
    "  1. Python has a lot of symbols in its syntax.  What are they, and what are they used for?\n",
    "  2. What are functions?  How do you use them?  Where can you get them?\n",
    "  3. What kinds of data collections are built-in to Python?  What concepts do they represent?\n",
    "  4. What is a \"logical expression\"?  What is a \"state change\"?\n",
    "  5. What is the \"for...in\" statement about?  How do you use it?\n",
    "  6. What is the \"if\" statement about?  How do you use it?\n",
    "  7. Would you like a coffee break?\n",
    "  8. "
   ]
  }
 ],
 "metadata": {
  "colab": {
   "name": "Copy of Python Syntax 3.ipynb",
   "provenance": []
  },
  "kernelspec": {
   "display_name": "Python 3",
   "language": "python",
   "name": "python3"
  },
  "language_info": {
   "codemirror_mode": {
    "name": "ipython",
    "version": 3
   },
   "file_extension": ".py",
   "mimetype": "text/x-python",
   "name": "python",
   "nbconvert_exporter": "python",
   "pygments_lexer": "ipython3",
   "version": "3.7.6"
  }
 },
 "nbformat": 4,
 "nbformat_minor": 1
}
