{
  "nbformat": 4,
  "nbformat_minor": 0,
  "metadata": {
    "kernelspec": {
      "display_name": "Python 3",
      "language": "python",
      "name": "python3"
    },
    "language_info": {
      "codemirror_mode": {
        "name": "ipython",
        "version": 3
      },
      "file_extension": ".py",
      "mimetype": "text/x-python",
      "name": "python",
      "nbconvert_exporter": "python",
      "pygments_lexer": "ipython3",
      "version": "3.7.4"
    },
    "colab": {
      "name": "Copy of Python Syntax 5.ipynb",
      "provenance": [],
      "toc_visible": true
    }
  },
  "cells": [
    {
      "cell_type": "code",
      "metadata": {
        "id": "TFzpBUiu8SOQ",
        "colab_type": "code",
        "colab": {}
      },
      "source": [
        "__ = \"\""
      ],
      "execution_count": 0,
      "outputs": []
    },
    {
      "cell_type": "markdown",
      "metadata": {
        "id": "jDRVs9e98SOc",
        "colab_type": "text"
      },
      "source": [
        "# Conditionals and Loops: Controlling Your Code's Flow"
      ]
    },
    {
      "cell_type": "markdown",
      "metadata": {
        "id": "M86jZy_L8SOd",
        "colab_type": "text"
      },
      "source": [
        "## Thinking in Paradigms: Code Abstractions\n",
        "\n",
        "One of the great things about computers is their relentless reliability and ability to follow instructions; step by step, they get the job done.\n",
        "Writing each step individually, however, would be far too time-consuming. For example, take a look at this code, which computes and prints the mean of 3 numbers:\n",
        "\n",
        "```python\n",
        "data = [1, 2, 3]\n",
        "mean = 0\n",
        "current_idx = 0\n",
        "next_value = data[current_idx]\n",
        "mean += current_idx\n",
        "current_idx = current_idx + 1\n",
        "next_value = data[current_idx]\n",
        "mean += current_idx\n",
        "current_idx = current_idx + 1\n",
        "next_value = data[current_idx]\n",
        "mean += current_idx\n",
        "mean = mean / len(data)\n",
        "print(mean)\n",
        "```\n",
        "\n",
        "It's sympathetic, in a way, but a waste of time--we could do the job quicker on the back of a napkin!  Besides, it's error-prone to write.  To take advantage of computers as time-saving machines and decrease chances of errors, we must find ways to describe the pattern those steps should fall in.  In today's session, we'll describe some of the ways we can abstract away the tedieousness of the steps computers must take, learning to identify when we are\n",
        "working in each of the 4 programming paradigms, and how to shift between them:\n",
        "\n",
        "  - **\"Imperitive / Procedural\" Programming**: Describing each of the sequence of steps the computer must perform. abstracting away the computer's *state*.\n",
        "  - **\"Functional\" Programming**: Describing the results the computer must achieve, abstracting away the computer's *transformations*.\n",
        "  - **\"Object-Oriented\" Programming**: Describing the forms the computer must take, abstracting away the computer's *data*.\n",
        "  - **\"Declarative / Logical\" Programming**: Describe the problem the computer must solve, abstracting away the computer's *context*.\n",
        "\n",
        "  \n",
        "Procedural Programming is often simplest, because the steps one writes is most similar to the steps the computer actually takes.  To see how it started and get a sense of how the other paradigms evolved, take a look at this code, which computes and prints the mean of 3 numbers:\n",
        "\n",
        "### Demo: Printing the mean of a list of numbers\n",
        "  \n",
        "This can evolve from very specific instructions...\n",
        "\n",
        "```python\n",
        "data = [1, 2, 3]\n",
        "mean = 0\n",
        "idx = 0\n",
        "**LINE 5**  # The name of this line (note: not valid python code, just for demonstration\n",
        "value = data[idx]\n",
        "mean += value\n",
        "idx += 1\n",
        "if idx < len(data):  # check if the index is still able to access elements of \"data\", which mean's it still has work to do\n",
        "    **GOTO LINE 5**  # skip everything inside the \"while\" loop and continue on with the rest of the program.\n",
        "mean /= len(data)\n",
        "print(mean)\n",
        "```\n",
        "\n",
        "...to fairly specific instructions...\n",
        "\n",
        "\n",
        "```python\n",
        "data = [1, 2, 3]\n",
        "mean = 0\n",
        "idx = 0\n",
        "while True:  # Repeat the indented block of code underneath forever\n",
        "    value = data[idx]\n",
        "    mean += value\n",
        "    idx += 1\n",
        "    if idx == len(data):  # check if the index is now past the last index of \"data\", which mean's it's reached the end of the line\n",
        "        break  # skip everything inside the \"while\" loop and continue on with the rest of the program.\n",
        "mean /= len(data)\n",
        "print(mean)\n",
        "```\n",
        "        \n",
        "...to even more general instructions...\n",
        "```python\n",
        "data = [1, 2, 3]\n",
        "mean = 0\n",
        "for value in data:  # repeach the block of code underneath \"for each\" elment of data, assigning the name \"value\" to that element\n",
        "    mean += value\n",
        "mean /= len(data)\n",
        "print(mean)\n",
        "```\n",
        "\n",
        "...to even more more general instructions...\n",
        "```python\n",
        "data = [1, 2, 3]\n",
        "mean = sum(data)\n",
        "mean /= len(data)\n",
        "```\n",
        "    \n",
        "...to, basically as general as you get instructions...\n",
        "```python\n",
        "data = [1, 2, 3]\n",
        "mean = sum(data) / len(data)\n",
        "print(mean)\n",
        "```\n",
        "\n",
        "...**which somehow get more specific again as we speak more abstractly.**..\n",
        "\n",
        "```python\n",
        "data = [1, 2, 3]\n",
        "mean = lambda x: sum(data) / len(data)  # Defining a new function\n",
        "print(mean(data))\n",
        "```\n",
        "\n",
        "...**and then gets almost philosophical in its abstraction.**\n",
        "```python\n",
        "my_data = Data([1, 2, 3])  # Only showing the usage here, not how it was created\n",
        "print(my_data.mean())\n",
        "```\n",
        "  \n",
        "Interesting, right?  Abstraction is quite nice, but it comes at a cost: when the computer tells you something's wrong, it's a bit harder to troubleshoot the problem's source, because there is so much code running \"under the hood\".  To make it easier to troubleshoot, then, we'll learn about Python's data model and how go up and down levels of abstraction in order to have a good mental model of how Python is doing things.\n"
      ]
    },
    {
      "cell_type": "markdown",
      "metadata": {
        "id": "rlfITbgd8SOf",
        "colab_type": "text"
      },
      "source": [
        "## Expressions vs Blocks\n",
        "\n",
        "The second aspect of today's work will be to learn to avoid having the computer do \"half\" steps, whenever possible; in other words, to complete a task we value on every single line of code.  This ideal will drive the entire course, as we use more and more abstract tools to do more and more valuable work for us. \n",
        "\n",
        "For example, if we want to set three coordinates a value, we could do this:\n",
        "\n",
        "```python\n",
        "# set x, y, and z\n",
        "x = 1  # set the x value\n",
        "y = 2  # set the y value\n",
        "z = 3  # set the z value\n",
        "```\n",
        "\n",
        "Or this:\n",
        "\n",
        "```python\n",
        "x, y, z = 1, 2, 3  # set x, y, and z\n",
        "```\n",
        "\n",
        "When we work this way, it becomes easer to describe our code to others and reason about it when we want to change it to do other things.  To start on that journey, we'll learn how to do each of the steps below as both a single line and as a block of code."
      ]
    },
    {
      "cell_type": "markdown",
      "metadata": {
        "id": "CTu1bffn8SOg",
        "colab_type": "text"
      },
      "source": [
        "## \"If\" statements: Conditional Assignment\n",
        "\n",
        "\"If\" statements let Python make choices: one choice if some value is **Truthy**, and another if the value is **Falsy**.  This is called **conditional** behavior.  \n",
        "For example, **Conditional Assignment** has Python assigning a name to one value if something is true, and another if it is false:\n",
        "\n",
        "```python\n",
        "x = 30 if sum([1, 2, 3]) < 5 else 90   \n",
        "print(x)  # 90\n",
        "```\n",
        "Note that Python requires that both the True and False values are specified here. \n",
        "\n",
        "Every Python data type has a **Falsy** value--the value that makes the  **bool()** function return False.  Here's the table of common ones:\n",
        "\n",
        "| bool | int  | float | str | list | tuple | dict | set | None |\n",
        "| :--: | :--: | :--: | :--: | :--: | :--: |  :--: | :--: | :--: |\n",
        "| False | 0 | 0. | \"\" | [] | () | {} | {} | None |\n",
        "\n",
        "Basically, if the value is **0**, **Empty**, **False**, or **None**, it's automatically considered Falsy. If not, it's True!  This lets us write code like this:\n",
        "\n",
        "```python\n",
        "data = [1, 2, 3]\n",
        "result = 'I have data!' if data else 'My list is empty. :-('\n",
        "```\n",
        "\n",
        "```python\n",
        "data = None\n",
        "result = 'I have data!' if data else 'No data today. :-('\n",
        "```"
      ]
    },
    {
      "cell_type": "markdown",
      "metadata": {
        "id": "QAdy8yTw8SOi",
        "colab_type": "text"
      },
      "source": [
        "**Exercises**: Write out Python's conditional assignment code that represents each sentence.  If there is a blank line, replace it with code."
      ]
    },
    {
      "cell_type": "markdown",
      "metadata": {
        "id": "SAtHhkEf8SOk",
        "colab_type": "text"
      },
      "source": [
        "1. \"old_enough_to_drink\" is True if your_age is greater than the legal drinking age, otherwise it's False."
      ]
    },
    {
      "cell_type": "code",
      "metadata": {
        "id": "wl3GaLV_8SOl",
        "colab_type": "code",
        "outputId": "01b4cddc-b363-455a-ac94-6f2276bf9a42",
        "colab": {
          "base_uri": "https://localhost:8080/",
          "height": 34
        }
      },
      "source": [
        "your_age = 15\n",
        "legal_drinking_age = 18\n",
        "old_enough_to_drink = 'yes' if your_age >= legal_drinking_age else 'no'\n",
        "old_enough_to_drink"
      ],
      "execution_count": 0,
      "outputs": [
        {
          "output_type": "execute_result",
          "data": {
            "text/plain": [
              "'no'"
            ]
          },
          "metadata": {
            "tags": []
          },
          "execution_count": 2
        }
      ]
    },
    {
      "cell_type": "markdown",
      "metadata": {
        "id": "g_Bj3ZEN8SOq",
        "colab_type": "text"
      },
      "source": [
        "2. Do you have enough data yet?  \"Yes\" if if there are more than 10 values in the collection, and \"No\" if not."
      ]
    },
    {
      "cell_type": "code",
      "metadata": {
        "id": "bSyeW9FX8SOs",
        "colab_type": "code",
        "outputId": "2ffdce97-9e33-4cb8-f7c1-cb5e3804ae13",
        "colab": {
          "base_uri": "https://localhost:8080/",
          "height": 34
        }
      },
      "source": [
        "data = [32, 6, 8, 4, 45, 6, 7, 34, 2]\n",
        "enough_data = True if len(data) > 10 else False\n",
        "enough_data"
      ],
      "execution_count": 0,
      "outputs": [
        {
          "output_type": "execute_result",
          "data": {
            "text/plain": [
              "False"
            ]
          },
          "metadata": {
            "tags": []
          },
          "execution_count": 3
        }
      ]
    },
    {
      "cell_type": "markdown",
      "metadata": {
        "id": "TdSPDmd68SOx",
        "colab_type": "text"
      },
      "source": [
        "3. If the third value in the list of lottery numbers is equal to the 2nd value, you get a \"win\" result.  If not, you \"lose\"."
      ]
    },
    {
      "cell_type": "code",
      "metadata": {
        "id": "cSEs5--Y8SOy",
        "colab_type": "code",
        "outputId": "6b20c180-a990-4e64-8047-7bc29b44b0d3",
        "colab": {
          "base_uri": "https://localhost:8080/",
          "height": 34
        }
      },
      "source": [
        "lottery = [3, 5, 5, 9, 12]\n",
        "result = 'win' if lottery[1] == lottery[2] else 'lose'\n",
        "result"
      ],
      "execution_count": 0,
      "outputs": [
        {
          "output_type": "execute_result",
          "data": {
            "text/plain": [
              "'win'"
            ]
          },
          "metadata": {
            "tags": []
          },
          "execution_count": 4
        }
      ]
    },
    {
      "cell_type": "markdown",
      "metadata": {
        "id": "0V2PajvR8SO4",
        "colab_type": "text"
      },
      "source": [
        "4. If the 1st value in the list is greater than the last value, then x should be set to 3.  If not, it's should be set to 2."
      ]
    },
    {
      "cell_type": "code",
      "metadata": {
        "id": "UK1e3Xfw8SO4",
        "colab_type": "code",
        "outputId": "86b6986b-55fc-43a5-a8b4-dbaeaf51acf5",
        "colab": {
          "base_uri": "https://localhost:8080/",
          "height": 34
        }
      },
      "source": [
        "values = [1, 2, 3, 4][::-1]\n",
        "x = 3 if values[0] > values[-1] else 2\n",
        "x"
      ],
      "execution_count": 0,
      "outputs": [
        {
          "output_type": "execute_result",
          "data": {
            "text/plain": [
              "3"
            ]
          },
          "metadata": {
            "tags": []
          },
          "execution_count": 8
        }
      ]
    },
    {
      "cell_type": "markdown",
      "metadata": {
        "id": "EoPi9-Jf8SO_",
        "colab_type": "text"
      },
      "source": [
        "5. If data is None, then result should be None.  If it's anything else, then it should be \"published!\""
      ]
    },
    {
      "cell_type": "code",
      "metadata": {
        "id": "qNPorCam8SPA",
        "colab_type": "code",
        "colab": {}
      },
      "source": [
        "data = None\n",
        "result = 'published' if data else None\n",
        "result"
      ],
      "execution_count": 0,
      "outputs": []
    },
    {
      "cell_type": "markdown",
      "metadata": {
        "id": "ApPgQ8fk8SPG",
        "colab_type": "text"
      },
      "source": [
        "**Exercises in Truthyness, part 2**\n",
        "\n",
        "For each of these statements, predict the value Python will return"
      ]
    },
    {
      "cell_type": "markdown",
      "metadata": {
        "id": "f4XkCyKu8SPH",
        "colab_type": "text"
      },
      "source": [
        "```python\n",
        "True if [1, 2, 3] else False #True\n",
        "```"
      ]
    },
    {
      "cell_type": "code",
      "metadata": {
        "id": "QN1ytuFslSe8",
        "colab_type": "code",
        "outputId": "6ba83806-912a-46af-c0d8-503727b563c7",
        "colab": {
          "base_uri": "https://localhost:8080/",
          "height": 34
        }
      },
      "source": [
        "True if [1, 2, 3] else False"
      ],
      "execution_count": 0,
      "outputs": [
        {
          "output_type": "execute_result",
          "data": {
            "text/plain": [
              "True"
            ]
          },
          "metadata": {
            "tags": []
          },
          "execution_count": 15
        }
      ]
    },
    {
      "cell_type": "markdown",
      "metadata": {
        "id": "0mlxncKO8SPJ",
        "colab_type": "text"
      },
      "source": [
        "```python\n",
        "False if [] else True #True\n",
        "```"
      ]
    },
    {
      "cell_type": "code",
      "metadata": {
        "id": "1DV9rrWNlXkg",
        "colab_type": "code",
        "outputId": "fe69329f-d2b4-4038-f183-19ce71ae30ef",
        "colab": {
          "base_uri": "https://localhost:8080/",
          "height": 34
        }
      },
      "source": [
        "False if [] else True "
      ],
      "execution_count": 0,
      "outputs": [
        {
          "output_type": "execute_result",
          "data": {
            "text/plain": [
              "True"
            ]
          },
          "metadata": {
            "tags": []
          },
          "execution_count": 16
        }
      ]
    },
    {
      "cell_type": "markdown",
      "metadata": {
        "id": "aqT8iDg28SPK",
        "colab_type": "text"
      },
      "source": [
        "```python\n",
        "True if False else False\n",
        "```"
      ]
    },
    {
      "cell_type": "code",
      "metadata": {
        "id": "kPc8Jvr2lmTs",
        "colab_type": "code",
        "outputId": "3c17457c-cdc2-4d9c-f016-3369fc74f316",
        "colab": {
          "base_uri": "https://localhost:8080/",
          "height": 34
        }
      },
      "source": [
        "True if False else False #False"
      ],
      "execution_count": 0,
      "outputs": [
        {
          "output_type": "execute_result",
          "data": {
            "text/plain": [
              "False"
            ]
          },
          "metadata": {
            "tags": []
          },
          "execution_count": 17
        }
      ]
    },
    {
      "cell_type": "markdown",
      "metadata": {
        "id": "dXS6i-pQ8SPL",
        "colab_type": "text"
      },
      "source": [
        "```python\n",
        "False if 3 - 3 else True # True\n",
        "```"
      ]
    },
    {
      "cell_type": "code",
      "metadata": {
        "id": "8fLVvb9TlnJh",
        "colab_type": "code",
        "outputId": "8649d9fd-63e6-409b-c3a8-2449b50394a5",
        "colab": {
          "base_uri": "https://localhost:8080/",
          "height": 34
        }
      },
      "source": [
        "False if 3 - 3 else True # True"
      ],
      "execution_count": 0,
      "outputs": [
        {
          "output_type": "execute_result",
          "data": {
            "text/plain": [
              "True"
            ]
          },
          "metadata": {
            "tags": []
          },
          "execution_count": 18
        }
      ]
    },
    {
      "cell_type": "markdown",
      "metadata": {
        "id": "suvN51G28SPL",
        "colab_type": "text"
      },
      "source": [
        "```python\n",
        "True if -1 else False #True\n",
        "```"
      ]
    },
    {
      "cell_type": "code",
      "metadata": {
        "id": "FeD__qu6loHo",
        "colab_type": "code",
        "outputId": "697f4021-05b8-4e95-a76c-2bcc53659d73",
        "colab": {
          "base_uri": "https://localhost:8080/",
          "height": 34
        }
      },
      "source": [
        "True if -1 else False #True"
      ],
      "execution_count": 0,
      "outputs": [
        {
          "output_type": "execute_result",
          "data": {
            "text/plain": [
              "True"
            ]
          },
          "metadata": {
            "tags": []
          },
          "execution_count": 19
        }
      ]
    },
    {
      "cell_type": "markdown",
      "metadata": {
        "id": "lAEAcLDr8SPN",
        "colab_type": "text"
      },
      "source": [
        "```python\n",
        "True if [False] else False # True\n",
        "```"
      ]
    },
    {
      "cell_type": "code",
      "metadata": {
        "id": "JvPGIY5ZloxU",
        "colab_type": "code",
        "outputId": "1319adf6-0fd2-4876-9343-5018430b750d",
        "colab": {
          "base_uri": "https://localhost:8080/",
          "height": 34
        }
      },
      "source": [
        "True if [False] else False # True"
      ],
      "execution_count": 0,
      "outputs": [
        {
          "output_type": "execute_result",
          "data": {
            "text/plain": [
              "True"
            ]
          },
          "metadata": {
            "tags": []
          },
          "execution_count": 20
        }
      ]
    },
    {
      "cell_type": "markdown",
      "metadata": {
        "id": "hhCKiizQ8SPO",
        "colab_type": "text"
      },
      "source": [
        "```python\n",
        "True if \"False\" else False # False\n",
        "```"
      ]
    },
    {
      "cell_type": "code",
      "metadata": {
        "id": "CDJZnm7flpXi",
        "colab_type": "code",
        "outputId": "f4753bbc-22a2-4290-a46b-6b5055ea02ef",
        "colab": {
          "base_uri": "https://localhost:8080/",
          "height": 34
        }
      },
      "source": [
        "True if \"False\" else False # string"
      ],
      "execution_count": 0,
      "outputs": [
        {
          "output_type": "execute_result",
          "data": {
            "text/plain": [
              "True"
            ]
          },
          "metadata": {
            "tags": []
          },
          "execution_count": 21
        }
      ]
    },
    {
      "cell_type": "markdown",
      "metadata": {
        "id": "Uh6IgjYZ8SPP",
        "colab_type": "text"
      },
      "source": [
        "```python\n",
        "True if [True, False, None][0] else False #True\n",
        "```"
      ]
    },
    {
      "cell_type": "code",
      "metadata": {
        "id": "UlDpybYalqDR",
        "colab_type": "code",
        "outputId": "f1f67845-f96a-420d-933e-1c54390d4d89",
        "colab": {
          "base_uri": "https://localhost:8080/",
          "height": 34
        }
      },
      "source": [
        "True if [True, False, None][0] else False #True"
      ],
      "execution_count": 0,
      "outputs": [
        {
          "output_type": "execute_result",
          "data": {
            "text/plain": [
              "True"
            ]
          },
          "metadata": {
            "tags": []
          },
          "execution_count": 22
        }
      ]
    },
    {
      "cell_type": "markdown",
      "metadata": {
        "id": "52uezkpu8SPQ",
        "colab_type": "text"
      },
      "source": [
        "```python\n",
        "False if [True, [False, 1], None, 0][:-1][::-1][0] else True #True\n",
        "```"
      ]
    },
    {
      "cell_type": "code",
      "metadata": {
        "id": "P_2lqcTqlq0S",
        "colab_type": "code",
        "outputId": "04e2c39e-f3f9-44c1-e827-370adcdb5ccd",
        "colab": {
          "base_uri": "https://localhost:8080/",
          "height": 34
        }
      },
      "source": [
        "False if [True, [False, 1], None, 0][:-1][::-1][0] else True #True"
      ],
      "execution_count": 0,
      "outputs": [
        {
          "output_type": "execute_result",
          "data": {
            "text/plain": [
              "True"
            ]
          },
          "metadata": {
            "tags": []
          },
          "execution_count": 23
        }
      ]
    },
    {
      "cell_type": "markdown",
      "metadata": {
        "id": "ohbGdtmK8SPQ",
        "colab_type": "text"
      },
      "source": [
        "### \"If\" Blocks"
      ]
    },
    {
      "cell_type": "markdown",
      "metadata": {
        "id": "xxqyJLWu8SPR",
        "colab_type": "text"
      },
      "source": [
        "We can also write Python in blocks of code using **if** statements, a process called **\"Flow Control\"**.  Here are some examples:\n",
        "\n",
        "```python\n",
        "if sum([1, 2, 3]) < 5:\n",
        "    x = 30\n",
        "print(x)  # NameError: 'x' is underfined!\n",
        "```\n",
        "\n",
        "Here are two other ways it could be written:\n",
        "\n",
        "```python\n",
        "if sum([1, 2, 3]) < 5:\n",
        "    x = 30\n",
        "else:\n",
        "    x = 90\n",
        "```\n",
        "    \n",
        "```python\n",
        "x = 90\n",
        "if sum([1, 2, 3]) < 5:\n",
        "    x = 30\n",
        "```\n",
        "\n",
        "Which do you prefer?\n",
        "\n",
        "The great part about blocks, though, is that they are very flexible.  They can have as many lines inside them as you want, and they allow for multiple conditions via **elif**:\n",
        "\n",
        "```python\n",
        "if sum([1, 2, 3]) < 5:\n",
        "    x = 30\n",
        "elif sum([1, 2, 3]) < 7:\n",
        "    x = 50\n",
        "else:\n",
        "    x = 90\n",
        "```\n",
        "\n",
        "You can use as many \"elif\"s as you want between the \"if\" and \"else\" sections.  If you use another if statement when you meant \"elif\", though, Python will think that you started a second \"if\" block.  For example, Python thinks that this is 2 blocks of code.:\n",
        "\n",
        "```python\n",
        "if sum([1, 2, 3]) < 5:\n",
        "    x = 30\n",
        "if sum([1, 2, 3]) < 7:\n",
        "    x = 50\n",
        "else:\n",
        "    x = 90\n",
        "```\n",
        "\n",
        "#### Aside: \"Meaningful Whitespace\"\n",
        "\n",
        "The main thing to know about code blocks in Python is that, unlike other languages, Python defines the end of a block by where it *stops indenting*.  This is called having **\"meaningful whitespace\"**.  Every line in Python should be indented the same way, with the same number of spaces in each section, so that Python knows they belong together.  If Python can't figure out where a block starts or ends, you will see an **IndentationError**."
      ]
    },
    {
      "cell_type": "markdown",
      "metadata": {
        "id": "TA7w9GwY8SPS",
        "colab_type": "text"
      },
      "source": [
        "**Exercises**: Let's do the previous exercises again, this time with blocks.  *Please don't copy-paste, though* Getting used to typing the instructions will help you get more comfortable with the language's syntax.  Before long, you'll find it quicker to type out the code!"
      ]
    },
    {
      "cell_type": "markdown",
      "metadata": {
        "id": "SMATK2028SPT",
        "colab_type": "text"
      },
      "source": [
        "1. \"old_enough_to_drink\" is True if your_age is greater than the legal drinking age, otherwise it's False."
      ]
    },
    {
      "cell_type": "code",
      "metadata": {
        "id": "rXW1vMeP8SPT",
        "colab_type": "code",
        "outputId": "709da6fe-f8e3-49d9-9e74-f410a151b36d",
        "colab": {
          "base_uri": "https://localhost:8080/",
          "height": 34
        }
      },
      "source": [
        "your_age = 10\n",
        "legal_drinking_age = 18\n",
        "if your_age > legal_drinking_age:\n",
        "  old_enough_to_drink = True\n",
        "else: \n",
        "  old_enough_to_drink = False\n",
        "old_enough_to_drink"
      ],
      "execution_count": 0,
      "outputs": [
        {
          "output_type": "execute_result",
          "data": {
            "text/plain": [
              "False"
            ]
          },
          "metadata": {
            "tags": []
          },
          "execution_count": 26
        }
      ]
    },
    {
      "cell_type": "markdown",
      "metadata": {
        "id": "vSh_jQAG8SPe",
        "colab_type": "text"
      },
      "source": [
        "2. Do you have enough data yet?  Print \"Yes\" if if there are more than 10 values in the collection, and \"No\" if not."
      ]
    },
    {
      "cell_type": "code",
      "metadata": {
        "id": "o9UPX62M8SPf",
        "colab_type": "code",
        "outputId": "ac21e4ca-5285-4c91-e0f1-2b9c3161f00f",
        "colab": {
          "base_uri": "https://localhost:8080/",
          "height": 34
        }
      },
      "source": [
        "data = [1, 2, 3, 4, 5, 6, 7 ,8 , 9, 1, 2]\n",
        "if len(data) > 10:\n",
        "  enough_data = 'Yes'\n",
        "else:\n",
        "  enough_data = 'No'\n",
        "enough_data"
      ],
      "execution_count": 0,
      "outputs": [
        {
          "output_type": "execute_result",
          "data": {
            "text/plain": [
              "'Yes'"
            ]
          },
          "metadata": {
            "tags": []
          },
          "execution_count": 27
        }
      ]
    },
    {
      "cell_type": "markdown",
      "metadata": {
        "id": "9rFGChr48SPk",
        "colab_type": "text"
      },
      "source": [
        "3. If the third value in the list of lottery numbers is equal to the 2nd value, print get a \"win\" result.  If not, print \"lose\"."
      ]
    },
    {
      "cell_type": "code",
      "metadata": {
        "id": "eL0C8SMz8SPk",
        "colab_type": "code",
        "outputId": "c5f5779f-4eaf-4557-ac48-f3f3f608ff9e",
        "colab": {
          "base_uri": "https://localhost:8080/",
          "height": 34
        }
      },
      "source": [
        "lottery = [1, 2, 3, 4, 12, 10]\n",
        "if lottery[1] == lottery[2]:\n",
        "  print('win')\n",
        "else:\n",
        "  print('lose')"
      ],
      "execution_count": 0,
      "outputs": [
        {
          "output_type": "stream",
          "text": [
            "lose\n"
          ],
          "name": "stdout"
        }
      ]
    },
    {
      "cell_type": "markdown",
      "metadata": {
        "id": "_huC1KA88SPo",
        "colab_type": "text"
      },
      "source": [
        "4. If the 1st value in the list is greater than the last value, then x should be set to 3.  If not, it's should be set to 2."
      ]
    },
    {
      "cell_type": "code",
      "metadata": {
        "id": "sBwqlr268SPo",
        "colab_type": "code",
        "outputId": "db82a407-f787-4a60-af91-092ed43c42a5",
        "colab": {
          "base_uri": "https://localhost:8080/",
          "height": 34
        }
      },
      "source": [
        "list1 = [1, 2, 3, 4, 5]\n",
        "if list1[0] > list1[-1]:\n",
        "  x = 3\n",
        "else:\n",
        "  x = 2\n",
        "x"
      ],
      "execution_count": 0,
      "outputs": [
        {
          "output_type": "execute_result",
          "data": {
            "text/plain": [
              "2"
            ]
          },
          "metadata": {
            "tags": []
          },
          "execution_count": 30
        }
      ]
    },
    {
      "cell_type": "markdown",
      "metadata": {
        "id": "87zsC3Hj8SPt",
        "colab_type": "text"
      },
      "source": [
        "5. If data is None, then print the statement \"Go collect data\".  result should be None.  If it's anything else, then calculate its mean and print the string \"published!\""
      ]
    },
    {
      "cell_type": "code",
      "metadata": {
        "id": "X_Y44k4Y8SPv",
        "colab_type": "code",
        "outputId": "7bd7dc6d-719c-47f4-8504-1e59d02eecf1",
        "colab": {
          "base_uri": "https://localhost:8080/",
          "height": 52
        }
      },
      "source": [
        "data = [1, 2, 3]\n",
        "if data == None:\n",
        "  print('Go collect data')\n",
        "else:\n",
        "  mean = sum(data) / len(data)\n",
        "  print(mean)\n",
        "  print('published!')"
      ],
      "execution_count": 0,
      "outputs": [
        {
          "output_type": "stream",
          "text": [
            "2.0\n",
            "published!\n"
          ],
          "name": "stdout"
        }
      ]
    },
    {
      "cell_type": "markdown",
      "metadata": {
        "id": "K1aSYkL48SP0",
        "colab_type": "text"
      },
      "source": [
        "## Assertions: Checking Your Logic\n",
        "\n",
        "As our code gets longer, we need to hold more of it in our head to keep track of how we expect our data to change along the way.   If we want, we can **assert** to Python that we believe something is True in order to double-check our logic.  This way, if we're mistaken, Python can raise an **AssertionError** for us so that we know earlier when soething went wrong.  If we're correct, then Python just ignores it and carries on.  \n",
        "\n",
        "Here are some examples so you can see how that works:"
      ]
    },
    {
      "cell_type": "code",
      "metadata": {
        "id": "urvokC_L8SP2",
        "colab_type": "code",
        "colab": {}
      },
      "source": [
        "assert sum([1, 2, 3]) > 0, \"The data is supposed to have a positive sum here.\""
      ],
      "execution_count": 0,
      "outputs": []
    },
    {
      "cell_type": "code",
      "metadata": {
        "id": "H39F0zXx8SP6",
        "colab_type": "code",
        "outputId": "5d5063ad-b418-4006-8f9c-6b477d681eed",
        "colab": {}
      },
      "source": [
        "assert sum([-10, 2, 3]) > 0, \"The data is supposed to have a positive sum here.\""
      ],
      "execution_count": 0,
      "outputs": [
        {
          "output_type": "error",
          "ename": "AssertionError",
          "evalue": "The data is supposed to have a positive sum here.",
          "traceback": [
            "\u001b[1;31m---------------------------------------------------------------------------\u001b[0m",
            "\u001b[1;31mAssertionError\u001b[0m                            Traceback (most recent call last)",
            "\u001b[1;32m<ipython-input-13-7a51d5e329d3>\u001b[0m in \u001b[0;36m<module>\u001b[1;34m\u001b[0m\n\u001b[1;32m----> 1\u001b[1;33m \u001b[1;32massert\u001b[0m \u001b[0msum\u001b[0m\u001b[1;33m(\u001b[0m\u001b[1;33m[\u001b[0m\u001b[1;33m-\u001b[0m\u001b[1;36m10\u001b[0m\u001b[1;33m,\u001b[0m \u001b[1;36m2\u001b[0m\u001b[1;33m,\u001b[0m \u001b[1;36m3\u001b[0m\u001b[1;33m]\u001b[0m\u001b[1;33m)\u001b[0m \u001b[1;33m>\u001b[0m \u001b[1;36m0\u001b[0m\u001b[1;33m,\u001b[0m \u001b[1;34m\"The data is supposed to have a positive sum here.\"\u001b[0m\u001b[1;33m\u001b[0m\u001b[1;33m\u001b[0m\u001b[0m\n\u001b[0m",
            "\u001b[1;31mAssertionError\u001b[0m: The data is supposed to have a positive sum here."
          ]
        }
      ]
    },
    {
      "cell_type": "code",
      "metadata": {
        "id": "8rbNZSr28SQE",
        "colab_type": "code",
        "outputId": "c11c5dce-c183-49a1-ab5a-5d110ae0c2ce",
        "colab": {}
      },
      "source": [
        "data = None\n",
        "assert data, \"We can't work without data!\""
      ],
      "execution_count": 0,
      "outputs": [
        {
          "output_type": "error",
          "ename": "AssertionError",
          "evalue": "We can't work without data!",
          "traceback": [
            "\u001b[1;31m---------------------------------------------------------------------------\u001b[0m",
            "\u001b[1;31mAssertionError\u001b[0m                            Traceback (most recent call last)",
            "\u001b[1;32m<ipython-input-14-63b06c22f5af>\u001b[0m in \u001b[0;36m<module>\u001b[1;34m\u001b[0m\n\u001b[0;32m      1\u001b[0m \u001b[0mdata\u001b[0m \u001b[1;33m=\u001b[0m \u001b[1;32mNone\u001b[0m\u001b[1;33m\u001b[0m\u001b[1;33m\u001b[0m\u001b[0m\n\u001b[1;32m----> 2\u001b[1;33m \u001b[1;32massert\u001b[0m \u001b[0mdata\u001b[0m\u001b[1;33m,\u001b[0m \u001b[1;34m\"We can't work without data!\"\u001b[0m\u001b[1;33m\u001b[0m\u001b[1;33m\u001b[0m\u001b[0m\n\u001b[0m",
            "\u001b[1;31mAssertionError\u001b[0m: We can't work without data!"
          ]
        }
      ]
    },
    {
      "cell_type": "markdown",
      "metadata": {
        "id": "wnz_9-At8SQL",
        "colab_type": "text"
      },
      "source": [
        "## Loops: \"Don't Repeat Yourself\""
      ]
    },
    {
      "cell_type": "markdown",
      "metadata": {
        "id": "q7SGARKc8SQN",
        "colab_type": "text"
      },
      "source": [
        "### \"While\" Loops\n",
        "\n",
        "**While** loops run a block of code for as long as the header returns True.  If it's false, then it skips the block of code and continues onward.\n",
        "\n",
        "For example, this code will run forever, because \"True\" is always truthy:\n",
        "```python\n",
        "while True:\n",
        "    print(\"Hi, everybody!\")\n",
        "    print(\"I am alive!\")\n",
        "print(\"I'm done.\")  # This will never be run.\n",
        "```\n",
        "\n",
        "You can \"break out\" of any loop, even an endless one, by using the **break** statement.  If Python sees it, it immediately skips the rest of the block and continues on:\n",
        "\n",
        "```python\n",
        "while True:\n",
        "    print(\"Hi, everybody!\")  # This will run\n",
        "    break\n",
        "    print(\"I am alive!\")  # This won't.\n",
        "print(\"I'm done.\")  # this will be run.\n",
        "```\n",
        "\n",
        "\n",
        "If we want, we can use while loops to perform an operation a certain number of times, and use an \"if statement\" to make the break appear.  For example:\n",
        "\n",
        "```python\n",
        "x = 0\n",
        "while True:\n",
        "    x += 1\n",
        "    print(x)\n",
        "    if x > 5:\n",
        "        break\n",
        "print(\"I'm done.\")\n",
        "```\n",
        "\n",
        "We can see here that code blocks can be nested!  That's exciting, right?  \n",
        "\n",
        "Notice that \"x\" is set before the loop.  That's called **preallocating** the variable, and it's often needed before doing some kind of automation on it.  In a sense, this code is doing three things, each in different blocks: \n",
        "\n",
        "  1. Getting Data\n",
        "  2. Modifying Data\n",
        "  3. Making a Decision, based on Data\n",
        "  \n",
        "Well, let's try it out!"
      ]
    },
    {
      "cell_type": "markdown",
      "metadata": {
        "id": "NC1S-4qA8SQO",
        "colab_type": "text"
      },
      "source": [
        "**Exercises**: Write a while loop that does each of the following tasks:"
      ]
    },
    {
      "cell_type": "markdown",
      "metadata": {
        "id": "QwQrRasW8SQR",
        "colab_type": "text"
      },
      "source": [
        "1. Print \"Hello, Name\" before for each name in the list of names"
      ]
    },
    {
      "cell_type": "code",
      "metadata": {
        "id": "o5QukpOf8SQS",
        "colab_type": "code",
        "outputId": "afe21b60-ff4f-4e0a-e76e-69a93685ff66",
        "colab": {
          "base_uri": "https://localhost:8080/",
          "height": 105
        }
      },
      "source": [
        "names = [\"Johnny\", \"Carol\", \"June\", \"Susanne\"]\n",
        "x = 0\n",
        "while True:\n",
        "  print('Hello,', names[x])\n",
        "  x += 1\n",
        "  if x >= len(names):\n",
        "    break\n",
        "print('I\\'am done')"
      ],
      "execution_count": 0,
      "outputs": [
        {
          "output_type": "stream",
          "text": [
            "Hello,  Johnny\n",
            "Hello,  Carol\n",
            "Hello,  June\n",
            "Hello,  Susanne\n",
            "I'am done\n"
          ],
          "name": "stdout"
        }
      ]
    },
    {
      "cell_type": "markdown",
      "metadata": {
        "id": "AxFWvsSa8SQv",
        "colab_type": "text"
      },
      "source": [
        "2. Print the number of letters are in each name"
      ]
    },
    {
      "cell_type": "code",
      "metadata": {
        "id": "pxDngZCR8SQz",
        "colab_type": "code",
        "outputId": "d3917604-33ea-4901-deb6-dc95c79fadbd",
        "colab": {
          "base_uri": "https://localhost:8080/",
          "height": 105
        }
      },
      "source": [
        "names = [\"Johnny\", \"Carol\", \"June\", \"Susanne\"]\n",
        "x = 0\n",
        "while True:\n",
        "  print(len(names[x]))\n",
        "  x += 1\n",
        "  if x == len(names):\n",
        "    break\n",
        "print('done')"
      ],
      "execution_count": 0,
      "outputs": [
        {
          "output_type": "stream",
          "text": [
            "6\n",
            "5\n",
            "4\n",
            "7\n",
            "done\n"
          ],
          "name": "stdout"
        }
      ]
    },
    {
      "cell_type": "markdown",
      "metadata": {
        "id": "8l5kMsr48SRV",
        "colab_type": "text"
      },
      "source": [
        "3.Make a Dictionary showing how many letters are in each name  "
      ]
    },
    {
      "cell_type": "code",
      "metadata": {
        "id": "f83zg7gr8SRX",
        "colab_type": "code",
        "colab": {}
      },
      "source": [
        "names = [\"Johnny\", \"Carol\", \"June\", \"Susanne\"]\n",
        "name_lengths = {}  # to add a key to this dictionary, follow this example: name_length['Johnny'] = 3"
      ],
      "execution_count": 0,
      "outputs": []
    },
    {
      "cell_type": "code",
      "metadata": {
        "id": "JjH4MNw68SRl",
        "colab_type": "code",
        "outputId": "6db9ce01-0b80-499c-f85f-9f0ed460b827",
        "colab": {
          "base_uri": "https://localhost:8080/",
          "height": 34
        }
      },
      "source": [
        "names = [\"Johnny\", \"Carol\", \"June\", \"Susanne\"]\n",
        "x = 0\n",
        "name_lengths = {}\n",
        "\n",
        "while True:\n",
        "    name_lengths[names[x]] = len(names[x])\n",
        "    x += 1\n",
        "    if x >= len(names):\n",
        "        break\n",
        "print(name_lengths)"
      ],
      "execution_count": 0,
      "outputs": [
        {
          "output_type": "stream",
          "text": [
            "{'Johnny': 6, 'Carol': 5, 'June': 4, 'Susanne': 7}\n"
          ],
          "name": "stdout"
        }
      ]
    },
    {
      "cell_type": "markdown",
      "metadata": {
        "id": "M37-jqf58SRr",
        "colab_type": "text"
      },
      "source": [
        "4. print \"Hello, World!\" 5 times."
      ]
    },
    {
      "cell_type": "code",
      "metadata": {
        "id": "Fum2Y6fA8SRr",
        "colab_type": "code",
        "outputId": "f144ecc8-1236-4c8f-8368-f7f9f5e77e79",
        "colab": {
          "base_uri": "https://localhost:8080/",
          "height": 105
        }
      },
      "source": [
        "x = 0\n",
        "while True:\n",
        "  x += 1\n",
        "  print('Hello, World') \n",
        "  if x == 5:\n",
        "    break"
      ],
      "execution_count": 0,
      "outputs": [
        {
          "output_type": "stream",
          "text": [
            "Hello, World\n",
            "Hello, World\n",
            "Hello, World\n",
            "Hello, World\n",
            "Hello, World\n"
          ],
          "name": "stdout"
        }
      ]
    },
    {
      "cell_type": "markdown",
      "metadata": {
        "id": "MYNeRfzc8SRu",
        "colab_type": "text"
      },
      "source": [
        "5. print \"Hello World!\" for each name in the list, but only if the first letter of the name begins with a \"J\"."
      ]
    },
    {
      "cell_type": "code",
      "metadata": {
        "id": "16AVGGqV8SRv",
        "colab_type": "code",
        "outputId": "4d6c1812-d4c8-44ac-9e5d-b279f5a8badd",
        "colab": {
          "base_uri": "https://localhost:8080/",
          "height": 70
        }
      },
      "source": [
        "names = [\"Johnny\", \"Carol\", \"June\", \"Susanne\"]\n",
        "x = 0\n",
        "\n",
        "while True:\n",
        "    if names[x][0] == 'J':\n",
        "        print('Hello, World')\n",
        "    x += 1\n",
        "    if x == len(names):\n",
        "        break\n",
        "print('done')"
      ],
      "execution_count": 0,
      "outputs": [
        {
          "output_type": "stream",
          "text": [
            "Hello, World\n",
            "Hello, World\n",
            "done\n"
          ],
          "name": "stdout"
        }
      ]
    },
    {
      "cell_type": "code",
      "metadata": {
        "id": "PlbfzAM28SRy",
        "colab_type": "code",
        "colab": {}
      },
      "source": [
        ""
      ],
      "execution_count": 0,
      "outputs": []
    },
    {
      "cell_type": "markdown",
      "metadata": {
        "id": "fxGXebfm8SR3",
        "colab_type": "text"
      },
      "source": [
        "## Iteration: \"For\" Loops\n",
        "\n",
        "Although while-loops are used a lot in \"lower-level\" programming languages, they don't show up very much in Python, R, Matlab, Javascript, Go, or, well, a lot of others.  That's because they can be difficult to reason about; the reader has to look at the whole loop and keep all the steps in their head to be sure they understand the behavior and purpose of the loop itself.\n",
        "\n",
        "That's what \"For-each\" loops (in Python, just called \"For\" loops) are meant to help with.  In a \"For-each\" loop, you specify how many times the loop will occur before starting the loop, and even set the variable names you'll be using in the header.  This makes a big difference in readability!  Let's take a look:\n",
        "\n",
        "```python\n",
        "data = [0, 1, 2]\n",
        "for value in data:\n",
        "    print(value * 2)\n",
        "```\n",
        "\n",
        "A lot of work is happening here in the for-loop.  When unpacked, this is what Python is doing;\n",
        "\n",
        "```python\n",
        "data = [0, 1, 2]\n",
        "collection = iter(data)  # Create an \"iterator\" out of data, which gives the \"next\" value each time the next() function is called on it.\n",
        "\n",
        "value = next(collection)\n",
        "print(value * 2)\n",
        "\n",
        "value = next(collection)\n",
        "print(value * 2)\n",
        "\n",
        "value = next(collection)\n",
        "print(value * 2)\n",
        "```\n",
        "\n",
        "**Iterators** and **Iterables (types that can become an Iterator)** are super useful for for-loops, and there are many Python functions that make them for you.  The most important one is the **range()** function, which produces integers between two values.  For example:\n",
        "\n",
        "```python\n",
        "numbers_0_through_5 = range(5)\n",
        "for number in numbers_0_through_5:\n",
        "    print(number)\n",
        "```\n",
        "\n",
        "No need to write the list yourself!\n",
        "    \n",
        "\n",
        "We'll do more with for-loops later.  For now, let's simplify those \"while loop\" exercises from before:\n",
        "\n",
        "**Exercises**: Write a for loop that does each of the following tasks:"
      ]
    },
    {
      "cell_type": "markdown",
      "metadata": {
        "id": "QRYDXw5u8SR3",
        "colab_type": "text"
      },
      "source": [
        "1. Print \"Hello, Name\" before for each name in the list of names"
      ]
    },
    {
      "cell_type": "code",
      "metadata": {
        "id": "PAIpoIv38SR4",
        "colab_type": "code",
        "colab": {}
      },
      "source": [
        "names = [\"Johnny\", \"Carol\", \"June\", \"Susanne\"]"
      ],
      "execution_count": 0,
      "outputs": []
    },
    {
      "cell_type": "code",
      "metadata": {
        "id": "2C4cguAo8SR8",
        "colab_type": "code",
        "outputId": "a86d5341-0307-4c53-d1d5-4f31a6886006",
        "colab": {
          "base_uri": "https://localhost:8080/",
          "height": 87
        }
      },
      "source": [
        "for x in names:\n",
        "  print('Hello,', x)"
      ],
      "execution_count": 0,
      "outputs": [
        {
          "output_type": "stream",
          "text": [
            "Hello, Johnny\n",
            "Hello, Carol\n",
            "Hello, June\n",
            "Hello, Susanne\n"
          ],
          "name": "stdout"
        }
      ]
    },
    {
      "cell_type": "markdown",
      "metadata": {
        "id": "3lDI4NQh8SR_",
        "colab_type": "text"
      },
      "source": [
        "2. Print the number of letters are in each name"
      ]
    },
    {
      "cell_type": "code",
      "metadata": {
        "id": "NBsX4w9u8SSA",
        "colab_type": "code",
        "outputId": "06f1312a-f43e-4a58-f5fa-b249e184f55d",
        "colab": {
          "base_uri": "https://localhost:8080/",
          "height": 87
        }
      },
      "source": [
        "for x in names:\n",
        "  print(len(x))"
      ],
      "execution_count": 0,
      "outputs": [
        {
          "output_type": "stream",
          "text": [
            "6\n",
            "5\n",
            "4\n",
            "7\n"
          ],
          "name": "stdout"
        }
      ]
    },
    {
      "cell_type": "markdown",
      "metadata": {
        "id": "5_EIWRoA8SSH",
        "colab_type": "text"
      },
      "source": [
        "3.Make a Dictionary showing how many letters are in each name  "
      ]
    },
    {
      "cell_type": "code",
      "metadata": {
        "id": "3QVio5qR8SSH",
        "colab_type": "code",
        "colab": {}
      },
      "source": [
        "names = [\"Johnny\", \"Carol\", \"June\", \"Susanne\"]\n",
        "name_lengths = {}  # to add a key to this dictionary, follow this example: name_length['Johnny'] = 3"
      ],
      "execution_count": 0,
      "outputs": []
    },
    {
      "cell_type": "code",
      "metadata": {
        "id": "F-_W5vjn8SSK",
        "colab_type": "code",
        "outputId": "0334c7ec-3af1-4dcd-90c2-9697f14e215f",
        "colab": {
          "base_uri": "https://localhost:8080/",
          "height": 34
        }
      },
      "source": [
        "names = [\"Johnny\", \"Carol\", \"June\", \"Susanne\"]\n",
        "name_lengths = {}\n",
        "for x in names:\n",
        "    name_lengths[x] = len(x)\n",
        "print(name_lengths)"
      ],
      "execution_count": 0,
      "outputs": [
        {
          "output_type": "stream",
          "text": [
            "{'Johnny': 6, 'Carol': 5, 'June': 4, 'Susanne': 7}\n"
          ],
          "name": "stdout"
        }
      ]
    },
    {
      "cell_type": "markdown",
      "metadata": {
        "id": "VEoHDWen8SSO",
        "colab_type": "text"
      },
      "source": [
        "4. print \"Hello, World!\" 5 times."
      ]
    },
    {
      "cell_type": "code",
      "metadata": {
        "id": "x6ceDA3J8SSO",
        "colab_type": "code",
        "outputId": "28e43048-deb2-4008-d87a-ab51be1f1ef6",
        "colab": {
          "base_uri": "https://localhost:8080/",
          "height": 105
        }
      },
      "source": [
        "for x in range(5):\n",
        "  print('Hello, World!')"
      ],
      "execution_count": 0,
      "outputs": [
        {
          "output_type": "stream",
          "text": [
            "Hello, World!\n",
            "Hello, World!\n",
            "Hello, World!\n",
            "Hello, World!\n",
            "Hello, World!\n"
          ],
          "name": "stdout"
        }
      ]
    },
    {
      "cell_type": "markdown",
      "metadata": {
        "id": "0azWhAyE8SSS",
        "colab_type": "text"
      },
      "source": [
        "5. print \"Hello World!\" for each name in the list, but only if the first letter of the name begins with a \"J\"."
      ]
    },
    {
      "cell_type": "code",
      "metadata": {
        "id": "iD7nyXih8SSS",
        "colab_type": "code",
        "outputId": "aee18f7b-f325-41a8-a9e3-60dfee53ddbf",
        "colab": {
          "base_uri": "https://localhost:8080/",
          "height": 52
        }
      },
      "source": [
        "names = [\"Johnny\", \"Carol\", \"June\", \"Susanne\"]\n",
        "for x in names:\n",
        "  if x[0] == 'J':\n",
        "    print('Hello World!')"
      ],
      "execution_count": 0,
      "outputs": [
        {
          "output_type": "stream",
          "text": [
            "Hello World!\n",
            "Hello World!\n"
          ],
          "name": "stdout"
        }
      ]
    },
    {
      "cell_type": "markdown",
      "metadata": {
        "id": "eyySbstB8SSY",
        "colab_type": "text"
      },
      "source": [
        "### Mapping Collections: Transforming Each Element of a Collection\n",
        "\n",
        "Often, you want to do something to the data inside your collection--double it, increase it, compute some metric, etc.  \n",
        "At the end, you still have the same *number* of elements, but the values themselves have changed.  \n",
        "We will be looking at lots of ways to accomplish this in  Python, but first we're going to use a **for-loop** in a format called a **comprehension**.\n",
        "\n",
        "Comprehensions produce a new collection containing new values *\"for each\"* value *in* the original collection.  They look like this:\n",
        "\n",
        "```python\n",
        ">>> data = [1, 2, 3]\n",
        ">>> list(x * 2 for x in data)\n",
        "[1, 4, 9]\n",
        "```\n",
        "\n",
        "The code above does the same as the following:\n",
        "```python\n",
        ">>> data = [1, 2, 3]\n",
        ">>> [data[0] * 2, data[1] * 2, data[2] * 2]\n",
        "[1, 4, 9]\n",
        "```\n",
        "\n",
        "Another example:\n",
        "\n",
        "```python\n",
        ">>> data = [1, 2, 3]\n",
        ">>> tuple(math.sqrt(value) + 2 for value in data)\n",
        "(3.0, 3.414, 3.732)\n",
        "```\n",
        "\n",
        "```python\n",
        ">>> data = [1, 2, 3]\n",
        ">>> (math.sqrt(data[0]) + 2, math.sqrt(data[1]) + 2, math.sqrt(data[2]) + 2)\n",
        "(3.0, 3.414, 3.732)\n",
        "```\n",
        "\n",
        "Notice that the variable **x** and **value** are created without using the assignment operator! You can name this anything you want, and it is created anew for each individual element of the collection.\n",
        "\n",
        "For lists, Python has a shortcut (called a **list comprehension**):\n",
        "\n",
        "```python\n",
        ">>> data = [1, 2, 3]\n",
        ">>> [x * 2 for x in data]\n",
        "[1, 4, 9]\n",
        "```\n",
        "\n",
        "There is also one for dict (**\"dict comprehensions\"**), but not for any other type.  See below:\n",
        "\n",
        "```python\n",
        ">>> data = [1, 2, 3]\n",
        ">>> {x: x * 2 for x in data}\n",
        "{1: 1, 2: 4, 3: 9}\n",
        "```"
      ]
    },
    {
      "cell_type": "markdown",
      "metadata": {
        "id": "kiKwlSw58SSZ",
        "colab_type": "text"
      },
      "source": [
        "**Exercises**: Transform each value in the given collection into the requested collection type using the requested transformation\n",
        "\n",
        "Example: A tuple of each value in \"data\", with each value increased by 3\n",
        "```python\n",
        ">>> data = [10, 20, 30]\n",
        ">>> tuple(x + 3 for x in data)\n",
        "(13, 23, 33)\n",
        "```"
      ]
    },
    {
      "cell_type": "markdown",
      "metadata": {
        "id": "tkQKcdh28SSb",
        "colab_type": "text"
      },
      "source": [
        "1. Make a list that adds 1 to each value in \"data\":"
      ]
    },
    {
      "cell_type": "code",
      "metadata": {
        "id": "1gFw450E8SSc",
        "colab_type": "code",
        "outputId": "8977020c-5567-4cd2-dea6-0185ca489a7a",
        "colab": {
          "base_uri": "https://localhost:8080/"
        }
      },
      "source": [
        "data = [1, 2, 3]\n",
        "[x+1 for x in data]"
      ],
      "execution_count": 0,
      "outputs": [
        {
          "output_type": "execute_result",
          "data": {
            "text/plain": [
              "[2, 3, 4]"
            ]
          },
          "metadata": {
            "tags": []
          },
          "execution_count": 10
        }
      ]
    },
    {
      "cell_type": "markdown",
      "metadata": {
        "id": "DSnye8hu8SSg",
        "colab_type": "text"
      },
      "source": [
        "2. Make a tuple that calculates the absolute value of each element in \"data\", using the built-in abs() function:"
      ]
    },
    {
      "cell_type": "code",
      "metadata": {
        "id": "nTnjZ4JW8SSh",
        "colab_type": "code",
        "outputId": "aaa5e04c-90c2-498d-96c6-1c0374999ab8",
        "colab": {
          "base_uri": "https://localhost:8080/"
        }
      },
      "source": [
        "data = (-2, -1, 0, 1, 2)\n",
        "tuple(abs(x) for x in data)"
      ],
      "execution_count": 0,
      "outputs": [
        {
          "output_type": "execute_result",
          "data": {
            "text/plain": [
              "(2, 1, 0, 1, 2)"
            ]
          },
          "metadata": {
            "tags": []
          },
          "execution_count": 11
        }
      ]
    },
    {
      "cell_type": "markdown",
      "metadata": {
        "id": "9a61NY1a8SSn",
        "colab_type": "text"
      },
      "source": [
        "2b. Make a list of the cosines of each value in \"data\":"
      ]
    },
    {
      "cell_type": "code",
      "metadata": {
        "id": "p8lnZU8K8SSq",
        "colab_type": "code",
        "outputId": "71b38965-596c-472b-e5ca-561fc1ced076",
        "colab": {
          "base_uri": "https://localhost:8080/",
          "height": 123
        }
      },
      "source": [
        "import math\n",
        "data = (-2, -1, 0, 1, 2, 3)\n",
        "[math.cos(x) for x in data]"
      ],
      "execution_count": 0,
      "outputs": [
        {
          "output_type": "execute_result",
          "data": {
            "text/plain": [
              "[-0.4161468365471424,\n",
              " 0.5403023058681398,\n",
              " 1.0,\n",
              " 0.5403023058681398,\n",
              " -0.4161468365471424,\n",
              " -0.9899924966004454]"
            ]
          },
          "metadata": {
            "tags": []
          },
          "execution_count": 12
        }
      ]
    },
    {
      "cell_type": "markdown",
      "metadata": {
        "id": "U2N8rgbJ8SSu",
        "colab_type": "text"
      },
      "source": [
        "2c. Round all these numbers to the nearest integer (use the \"round()\" function):"
      ]
    },
    {
      "cell_type": "code",
      "metadata": {
        "id": "tUlWHX3H8SSv",
        "colab_type": "code",
        "outputId": "c5ed2961-b85d-4bff-d169-f12fbdb3bb50",
        "colab": {
          "base_uri": "https://localhost:8080/",
          "height": 34
        }
      },
      "source": [
        "data = [1.2, 1.5, 0.7, -2.1]\n",
        "[round(x) for x in data]"
      ],
      "execution_count": 0,
      "outputs": [
        {
          "output_type": "execute_result",
          "data": {
            "text/plain": [
              "[1, 2, 1, -2]"
            ]
          },
          "metadata": {
            "tags": []
          },
          "execution_count": 13
        }
      ]
    },
    {
      "cell_type": "markdown",
      "metadata": {
        "id": "cDeuDgY98SS4",
        "colab_type": "text"
      },
      "source": [
        "3. Make a list of all the first letters of each name in the list:"
      ]
    },
    {
      "cell_type": "code",
      "metadata": {
        "id": "4mBzQr118SS5",
        "colab_type": "code",
        "outputId": "c7cafcfe-1200-4942-dcb0-47fb319adede",
        "colab": {
          "base_uri": "https://localhost:8080/",
          "height": 34
        }
      },
      "source": [
        "data = [\"John\", \"Harry\", \"Moe\", \"Luke\"]\n",
        "[x[0] for x in data]"
      ],
      "execution_count": 0,
      "outputs": [
        {
          "output_type": "execute_result",
          "data": {
            "text/plain": [
              "['J', 'H', 'M', 'L']"
            ]
          },
          "metadata": {
            "tags": []
          },
          "execution_count": 14
        }
      ]
    },
    {
      "cell_type": "markdown",
      "metadata": {
        "id": "2tCOolJG8SS8",
        "colab_type": "text"
      },
      "source": [
        "4. Make a tuple of the lengths of each name:"
      ]
    },
    {
      "cell_type": "code",
      "metadata": {
        "id": "b-eGM5OT8SS9",
        "colab_type": "code",
        "outputId": "a305abb1-39a2-46a9-8fb1-92cca65e4886",
        "colab": {
          "base_uri": "https://localhost:8080/",
          "height": 34
        }
      },
      "source": [
        "data = [\"John\", \"Harry\", \"Moe\", \"Luke\"]\n",
        "tuple(len(x) for x in data)"
      ],
      "execution_count": 0,
      "outputs": [
        {
          "output_type": "execute_result",
          "data": {
            "text/plain": [
              "(4, 5, 3, 4)"
            ]
          },
          "metadata": {
            "tags": []
          },
          "execution_count": 15
        }
      ]
    },
    {
      "cell_type": "markdown",
      "metadata": {
        "id": "X0Jqtmsj8SS_",
        "colab_type": "text"
      },
      "source": [
        "5. Make a dictionary that maps all the words in the list to their length:"
      ]
    },
    {
      "cell_type": "code",
      "metadata": {
        "id": "qauz_CAR8STB",
        "colab_type": "code",
        "outputId": "f96e2ccf-826b-4d76-ed30-11aad15067d9",
        "colab": {
          "base_uri": "https://localhost:8080/",
          "height": 34
        }
      },
      "source": [
        "data = [\"John\", \"Harry\", \"Moe\", \"Luke\"]\n",
        "{x : len(x) for x in data}"
      ],
      "execution_count": 0,
      "outputs": [
        {
          "output_type": "execute_result",
          "data": {
            "text/plain": [
              "{'Harry': 5, 'John': 4, 'Luke': 4, 'Moe': 3}"
            ]
          },
          "metadata": {
            "tags": []
          },
          "execution_count": 16
        }
      ]
    },
    {
      "cell_type": "markdown",
      "metadata": {
        "id": "Sck7vjeR8STD",
        "colab_type": "text"
      },
      "source": [
        "6. Make a set of all the word lengths in the tuple:"
      ]
    },
    {
      "cell_type": "code",
      "metadata": {
        "id": "uF6Ti_Mu8STF",
        "colab_type": "code",
        "outputId": "6da21b87-e53c-47aa-c1b6-af013f2f1212",
        "colab": {
          "base_uri": "https://localhost:8080/",
          "height": 34
        }
      },
      "source": [
        "data = (\"John\", \"Harry\", \"Moe\", \"Luke\")\n",
        "set(len(x) for x in data)"
      ],
      "execution_count": 0,
      "outputs": [
        {
          "output_type": "execute_result",
          "data": {
            "text/plain": [
              "{3, 4, 5}"
            ]
          },
          "metadata": {
            "tags": []
          },
          "execution_count": 17
        }
      ]
    },
    {
      "cell_type": "markdown",
      "metadata": {
        "id": "2nX5l1rr8STL",
        "colab_type": "text"
      },
      "source": [
        "### Filtering Collections\n",
        "\n",
        "What if you only want to include *some* values in a collection?  With the **if** statement and a **logical expression**, you can do it in a comprehension!  For example:\n",
        "\n",
        "```python\n",
        ">>> data = [1, 2, 3, 4]\n",
        ">>> [x for x in data if x > 2]\n",
        "[3, 4]\n",
        "```\n",
        "\n",
        "This can be combined with various transformations as well!\n",
        "\n",
        "```python\n",
        ">>> data = [\"John\", \"Harry\", \"Moe\", \"Luke\"]\n",
        ">>> [x[0] for x in data if len(x) < 5]\n",
        "[\"J\", \"M\", \"L\"]\n",
        "```"
      ]
    },
    {
      "cell_type": "markdown",
      "metadata": {
        "id": "s4BqQYPW8STM",
        "colab_type": "text"
      },
      "source": [
        "**Exercises**:"
      ]
    },
    {
      "cell_type": "markdown",
      "metadata": {
        "id": "be1xsa6B8STN",
        "colab_type": "text"
      },
      "source": [
        "Get All positive values in the following list:"
      ]
    },
    {
      "cell_type": "code",
      "metadata": {
        "id": "nY-lIVVc8STN",
        "colab_type": "code",
        "outputId": "c11156b7-dcda-4f36-927e-5e8bcb07b32c",
        "colab": {
          "base_uri": "https://localhost:8080/",
          "height": 34
        }
      },
      "source": [
        "data = [-6, 3, -1, 10, -5, 0]\n",
        "[x for x in data if x >= 0]"
      ],
      "execution_count": 0,
      "outputs": [
        {
          "output_type": "execute_result",
          "data": {
            "text/plain": [
              "[3, 10, 0]"
            ]
          },
          "metadata": {
            "tags": []
          },
          "execution_count": 18
        }
      ]
    },
    {
      "cell_type": "markdown",
      "metadata": {
        "id": "Ih8D1Sab8STP",
        "colab_type": "text"
      },
      "source": [
        "Make a tuple of all names that start with the letter \"L\":"
      ]
    },
    {
      "cell_type": "code",
      "metadata": {
        "id": "Sz3kPwv98STQ",
        "colab_type": "code",
        "outputId": "3922c513-0315-4e95-9a5e-054922e06c0b",
        "colab": {
          "base_uri": "https://localhost:8080/",
          "height": 34
        }
      },
      "source": [
        "data = (\"John\", \"Harry\", \"Moe\", \"Luke\")\n",
        "tuple(x for x in data if x[0] == 'L')"
      ],
      "execution_count": 0,
      "outputs": [
        {
          "output_type": "execute_result",
          "data": {
            "text/plain": [
              "('Luke',)"
            ]
          },
          "metadata": {
            "tags": []
          },
          "execution_count": 19
        }
      ]
    },
    {
      "cell_type": "markdown",
      "metadata": {
        "id": "KM0z3DDJ8STT",
        "colab_type": "text"
      },
      "source": [
        "Make a list of all names that have more than 3 letters in the name:"
      ]
    },
    {
      "cell_type": "code",
      "metadata": {
        "id": "_CfLsYzI8STT",
        "colab_type": "code",
        "outputId": "72a2ceab-8047-41d7-d781-7025bd45095b",
        "colab": {
          "base_uri": "https://localhost:8080/",
          "height": 34
        }
      },
      "source": [
        "data = (\"John\", \"Harry\", \"Moe\", \"Luke\")\n",
        "[x for x in data if len(x) > 3]"
      ],
      "execution_count": 0,
      "outputs": [
        {
          "output_type": "execute_result",
          "data": {
            "text/plain": [
              "['John', 'Harry', 'Luke']"
            ]
          },
          "metadata": {
            "tags": []
          },
          "execution_count": 20
        }
      ]
    },
    {
      "cell_type": "markdown",
      "metadata": {
        "id": "RqyHlFYU8STV",
        "colab_type": "text"
      },
      "source": [
        "Make a list of the last letter of all names that have more than 3 letters in the name:"
      ]
    },
    {
      "cell_type": "code",
      "metadata": {
        "id": "Vk5yCo6-8STW",
        "colab_type": "code",
        "outputId": "5620e6c4-f669-4e00-b987-e8150e1e0593",
        "colab": {
          "base_uri": "https://localhost:8080/",
          "height": 34
        }
      },
      "source": [
        "data = (\"John\", \"Harry\", \"Moe\", \"Luke\")\n",
        "[x[-1] for x in data if len(x) > 3]"
      ],
      "execution_count": 0,
      "outputs": [
        {
          "output_type": "execute_result",
          "data": {
            "text/plain": [
              "['n', 'y', 'e']"
            ]
          },
          "metadata": {
            "tags": []
          },
          "execution_count": 21
        }
      ]
    },
    {
      "cell_type": "markdown",
      "metadata": {
        "id": "LyZDchzi8STh",
        "colab_type": "text"
      },
      "source": [
        "Make a list of all values who have positive cosines:"
      ]
    },
    {
      "cell_type": "code",
      "metadata": {
        "id": "t-kiJfVg8STh",
        "colab_type": "code",
        "outputId": "3c9cb0a6-3681-4eca-8a65-05f33c171c5c",
        "colab": {
          "base_uri": "https://localhost:8080/",
          "height": 34
        }
      },
      "source": [
        "import math\n",
        "data = [1, 2, 3, 4, 5, 6, 7]\n",
        "[x for x in data if math.cos(x) >= 0]"
      ],
      "execution_count": 0,
      "outputs": [
        {
          "output_type": "execute_result",
          "data": {
            "text/plain": [
              "[1, 5, 6, 7]"
            ]
          },
          "metadata": {
            "tags": []
          },
          "execution_count": 23
        }
      ]
    },
    {
      "cell_type": "markdown",
      "metadata": {
        "id": "vD1yoZBT8STl",
        "colab_type": "text"
      },
      "source": [
        "Make a dictionary, mapping each name to its length, but only if the sine of its length is positive:"
      ]
    },
    {
      "cell_type": "code",
      "metadata": {
        "id": "NFas1K_R8STm",
        "colab_type": "code",
        "outputId": "f90785b7-2d80-474e-b013-cf97fd44da02",
        "colab": {
          "base_uri": "https://localhost:8080/",
          "height": 34
        }
      },
      "source": [
        "import math\n",
        "data = [\"John\", \"Harry\", \"Moe\", \"Luke\"]\n",
        "{x : len(x) for x in data if math.sin(len(x)) >= 0}"
      ],
      "execution_count": 0,
      "outputs": [
        {
          "output_type": "execute_result",
          "data": {
            "text/plain": [
              "{'Moe': 3}"
            ]
          },
          "metadata": {
            "tags": []
          },
          "execution_count": 24
        }
      ]
    },
    {
      "cell_type": "markdown",
      "metadata": {
        "id": "USYk7KRW8STt",
        "colab_type": "text"
      },
      "source": [
        "### Combining Them: Filtering, Transforming, and Aggregating\n",
        "\n",
        "Okay, let's combine everything together into a single step!  To get the minimum value of the squares of all values less than 0 in the following list:\n",
        "\n",
        "```python\n",
        ">>> data = [-5, -3, 1, 2, 3]\n",
        ">>> min(x ** 2 for x in data if x < 0)\n",
        "9\n",
        "```\n",
        "\n",
        "Let's try it out!"
      ]
    },
    {
      "cell_type": "markdown",
      "metadata": {
        "id": "aRY6u6QJ8STt",
        "colab_type": "text"
      },
      "source": [
        "**Exercises**:"
      ]
    },
    {
      "cell_type": "markdown",
      "metadata": {
        "id": "4ghYFSVb8STu",
        "colab_type": "text"
      },
      "source": [
        "The sum of all squares for all values in the dataset [1, 7, 3, 4, 9] greater than 4."
      ]
    },
    {
      "cell_type": "code",
      "metadata": {
        "id": "d8fZszvu8STv",
        "colab_type": "code",
        "outputId": "18e2c19e-f844-47dc-9331-3835d256f219",
        "colab": {
          "base_uri": "https://localhost:8080/",
          "height": 34
        }
      },
      "source": [
        "data = [1, 7, 3, 4, 9]\n",
        "sum(x**2 for x in data if x > 4)"
      ],
      "execution_count": 0,
      "outputs": [
        {
          "output_type": "execute_result",
          "data": {
            "text/plain": [
              "130"
            ]
          },
          "metadata": {
            "tags": []
          },
          "execution_count": 26
        }
      ]
    },
    {
      "cell_type": "markdown",
      "metadata": {
        "id": "J25dClpA8ST1",
        "colab_type": "text"
      },
      "source": [
        "The minimum length of all names in the list who has at least 4 unique letters in their name: [\"Bobby\", \"Cindy\", \"Anna\", \"Joshua\", \"Alan\", \"Hannah\", \"Jeffrey\"]"
      ]
    },
    {
      "cell_type": "code",
      "metadata": {
        "id": "dSHUhhex8ST2",
        "colab_type": "code",
        "outputId": "cdc69f5d-de90-41b1-e46e-c4e952d5ea0a",
        "colab": {
          "base_uri": "https://localhost:8080/",
          "height": 34
        }
      },
      "source": [
        "data = ['Bobby', 'Cindy', 'Anna', 'Joshua', 'Alan', 'Hannah', 'Jeffrey']\n",
        "min(len(x) for x in data if len(set(x.lower())) >= 4)"
      ],
      "execution_count": 0,
      "outputs": [
        {
          "output_type": "execute_result",
          "data": {
            "text/plain": [
              "5"
            ]
          },
          "metadata": {
            "tags": []
          },
          "execution_count": 27
        }
      ]
    },
    {
      "cell_type": "markdown",
      "metadata": {
        "id": "D8cvWgTV8ST7",
        "colab_type": "text"
      },
      "source": [
        "The total length of all the names in the list that starts with an \"R\": [\"Joey\", \"Monica\", \"Chandler\", \"Rachel\", \"Ross\", \"Phoebe\"]"
      ]
    },
    {
      "cell_type": "code",
      "metadata": {
        "id": "0A8VGDht8ST8",
        "colab_type": "code",
        "outputId": "0e277a33-a157-434f-b6ef-62c1fbf16362",
        "colab": {
          "base_uri": "https://localhost:8080/",
          "height": 34
        }
      },
      "source": [
        "data = ['Joey', 'Monica', 'chandler', 'Rachel', 'Ross', 'Phoebe']\n",
        "sum(len(x) for x in data if x[0] == 'R')"
      ],
      "execution_count": 0,
      "outputs": [
        {
          "output_type": "execute_result",
          "data": {
            "text/plain": [
              "10"
            ]
          },
          "metadata": {
            "tags": []
          },
          "execution_count": 28
        }
      ]
    },
    {
      "cell_type": "markdown",
      "metadata": {
        "id": "XEXpEatP8SUD",
        "colab_type": "text"
      },
      "source": [
        "## Asside: Chaining Them: Repeatedly Filtering and Transforming before Aggregating\n",
        "Often, data analysis pipelines require multiple repeated transforms and filters before the analysis is complete.  This can get quite unwieldy, to say the least.  For example:"
      ]
    },
    {
      "cell_type": "code",
      "metadata": {
        "id": "BK9x8pg78SUD",
        "colab_type": "code",
        "outputId": "6ad79e32-fa34-445c-a8cb-23cfc56988e7",
        "colab": {}
      },
      "source": [
        "tuple(x for x in (x ** 2 for x in (len(x) for x in (x for x in [\"Joey\", \"Monica\", \"Chandler\", \"Rachel\", \"Ross\", \"Phoebe\"]) if x[0] == 'R') if x < 10) if x < 36)"
      ],
      "execution_count": 0,
      "outputs": [
        {
          "output_type": "execute_result",
          "data": {
            "text/plain": [
              "(16,)"
            ]
          },
          "metadata": {
            "tags": []
          },
          "execution_count": 21
        }
      ]
    },
    {
      "cell_type": "markdown",
      "metadata": {
        "id": "nMn2Pso58SUH",
        "colab_type": "text"
      },
      "source": [
        "You could split this into multiple lines, but it doesn't always help keep it readable.  For example:"
      ]
    },
    {
      "cell_type": "code",
      "metadata": {
        "id": "yQkLjNMq8SUI",
        "colab_type": "code",
        "outputId": "80756d70-e670-462a-a9cc-eadb05db4c29",
        "colab": {}
      },
      "source": [
        "tuple \\\n",
        "(x for x in \n",
        "(x ** 2 for x in \n",
        "(len(x) for x in\n",
        "(x for x in \n",
        "[\"Joey\", \"Monica\", \"Chandler\", \"Rachel\", \"Ross\", \"Phoebe\"])\n",
        "if x[0] == 'R')\n",
        "if x < 10) \n",
        "if x < 36)"
      ],
      "execution_count": 0,
      "outputs": [
        {
          "output_type": "execute_result",
          "data": {
            "text/plain": [
              "(16,)"
            ]
          },
          "metadata": {
            "tags": []
          },
          "execution_count": 22
        }
      ]
    },
    {
      "cell_type": "markdown",
      "metadata": {
        "id": "f5H_szcV8SUP",
        "colab_type": "text"
      },
      "source": [
        " Often, people will just make a loop when they are in the situation, but this, too can get out of hand:"
      ]
    },
    {
      "cell_type": "code",
      "metadata": {
        "id": "bATPlkYG8SUQ",
        "colab_type": "code",
        "outputId": "79a3a17a-c9df-40cc-9f46-e36271cead46",
        "colab": {}
      },
      "source": [
        "friends = [\"Joey\", \"Monica\", \"Chandler\", \"Rachel\", \"Ross\", \"Phoebe\"]\n",
        "result = ()\n",
        "for friend in friends:\n",
        "    if friend[0] == 'R':\n",
        "        friend_len = len(friend)\n",
        "        if friend_len < 10:\n",
        "            friend_len_squared = friend_len ** 2\n",
        "            if friend_len_squared < 36:\n",
        "                result = result + (friend_len_squared,)\n",
        "result                "
      ],
      "execution_count": 0,
      "outputs": [
        {
          "output_type": "execute_result",
          "data": {
            "text/plain": [
              "(16,)"
            ]
          },
          "metadata": {
            "tags": []
          },
          "execution_count": 20
        }
      ]
    },
    {
      "cell_type": "markdown",
      "metadata": {
        "id": "uyCnlIfB8SUW",
        "colab_type": "text"
      },
      "source": [
        "A simpler way is to just split it into multiple steps:"
      ]
    },
    {
      "cell_type": "code",
      "metadata": {
        "id": "ftTaRZDH8SUX",
        "colab_type": "code",
        "outputId": "bcda1783-b5af-4920-b6e9-81eaa2d7a79d",
        "colab": {}
      },
      "source": [
        "friends = [\"Joey\", \"Monica\", \"Chandler\", \"Rachel\", \"Ross\", \"Phoebe\"]\n",
        "friends = [len(x) for x in friends if x[0] == 'R']\n",
        "friends = [x ** 2 for x in friends if x < 10]\n",
        "tuple(x for x in friends if x < 36)"
      ],
      "execution_count": 0,
      "outputs": [
        {
          "output_type": "execute_result",
          "data": {
            "text/plain": [
              "(16,)"
            ]
          },
          "metadata": {
            "tags": []
          },
          "execution_count": 24
        }
      ]
    },
    {
      "cell_type": "markdown",
      "metadata": {
        "id": "WFD9XSQG8SUZ",
        "colab_type": "text"
      },
      "source": [
        "This is a little better, but it can be a lot more readable still. We will be looking at many ways to make it easier for us to transform and filter data in later units."
      ]
    },
    {
      "cell_type": "markdown",
      "metadata": {
        "id": "I96wJjhh8SUZ",
        "colab_type": "text"
      },
      "source": [
        "## Review: Class Discussion\n",
        "\n",
        "  1. Python has a lot of symbols in its syntax.  What are they, and what are they used for?\n",
        "  2. What are functions?  How do you use them?  Where can you get them?\n",
        "  3. What kinds of data collections are built-in to Python?  What concepts do they represent?\n",
        "  4. What is a \"logical expression\"?  What is a \"state change\"?\n",
        "  5. What is the \"for...in\" statement about?  How do you use it?\n",
        "  6. What is the \"if\" statement about?  How do you use it?\n",
        "  7. Would you like a coffee break?"
      ]
    }
  ]
}