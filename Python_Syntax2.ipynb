{
  "nbformat": 4,
  "nbformat_minor": 0,
  "metadata": {
    "celltoolbar": "Slideshow",
    "kernelspec": {
      "display_name": "Python 3",
      "language": "python",
      "name": "python3"
    },
    "language_info": {
      "codemirror_mode": {
        "name": "ipython",
        "version": 3
      },
      "file_extension": ".py",
      "mimetype": "text/x-python",
      "name": "python",
      "nbconvert_exporter": "python",
      "pygments_lexer": "ipython3",
      "version": "3.7.4"
    },
    "colab": {
      "name": "Copy of Python Syntax2.ipynb",
      "provenance": [],
      "collapsed_sections": [],
      "toc_visible": true
    }
  },
  "cells": [
    {
      "cell_type": "markdown",
      "metadata": {
        "id": "HS9RwGDFUqsq",
        "colab_type": "text"
      },
      "source": [
        "# Intro to Python Syntax, Part 2\n",
        "## Collections"
      ]
    },
    {
      "cell_type": "markdown",
      "metadata": {
        "id": "jIZNGLAkUqsv",
        "colab_type": "text"
      },
      "source": [
        "## Grouping Together Your Data into a Collection\n",
        "Python also has operators for collecting related data together.  Most of this course will revolve around the pros and cons of different ways of collecting data, but let's take a look at them:\n",
        "\n",
        "| \"tuple\" (fixed sequence) | \"list\" (changeable sequence) | \"str\" (sequence of text characters) | \"bytes\" (sequence of bytes) |  \"set\" {mathematical set)  | \"dict\" (key-value mapping) | \n",
        "| :---------:| :----:    | :--------:    | :--------:    | :--------:    | :--------:    |\n",
        "|  (1, 2, 3) | [1, 2, 3] | \"123\" '123' | b\"123\" b'123' | {1, 2, 3} | {1: 2, 3: 4}  |"
      ]
    },
    {
      "cell_type": "markdown",
      "metadata": {
        "id": "tEJkvmruUqs4",
        "colab_type": "text"
      },
      "source": [
        "#### Exercises: Making Collections"
      ]
    },
    {
      "cell_type": "markdown",
      "metadata": {
        "id": "UiRmkfZkUqs5",
        "colab_type": "text"
      },
      "source": [
        "Make four difference types of sequences, each containing only the numbers from 1 to 5."
      ]
    },
    {
      "cell_type": "code",
      "metadata": {
        "id": "0G1eDg6bUqs6",
        "colab_type": "code",
        "colab": {}
      },
      "source": [
        "(1,2,3,5)"
      ],
      "execution_count": 0,
      "outputs": []
    },
    {
      "cell_type": "code",
      "metadata": {
        "id": "UnH3ak77Uqs9",
        "colab_type": "code",
        "colab": {}
      },
      "source": [
        "[5,4,3]"
      ],
      "execution_count": 0,
      "outputs": []
    },
    {
      "cell_type": "code",
      "metadata": {
        "id": "ot-dTC7LUqtN",
        "colab_type": "code",
        "colab": {}
      },
      "source": [
        "'12345'"
      ],
      "execution_count": 0,
      "outputs": []
    },
    {
      "cell_type": "code",
      "metadata": {
        "id": "Db2Wj2LGUqtP",
        "colab_type": "code",
        "colab": {}
      },
      "source": [
        "{1:5,2:4}"
      ],
      "execution_count": 0,
      "outputs": []
    },
    {
      "cell_type": "markdown",
      "metadata": {
        "id": "zqgA0tMkUqtS",
        "colab_type": "text"
      },
      "source": [
        "Make a sequence containing 3 names of people in this class."
      ]
    },
    {
      "cell_type": "code",
      "metadata": {
        "id": "O5EcCUg0UqtT",
        "colab_type": "code",
        "colab": {}
      },
      "source": [
        "['Marina','Farihaz','Pablo']"
      ],
      "execution_count": 0,
      "outputs": []
    },
    {
      "cell_type": "markdown",
      "metadata": {
        "id": "lJGl7PNzUqtk",
        "colab_type": "text"
      },
      "source": [
        "Make a list of four animals, ordering them by size."
      ]
    },
    {
      "cell_type": "code",
      "metadata": {
        "id": "reP5Q4uXUqtl",
        "colab_type": "code",
        "colab": {}
      },
      "source": [
        "['whale','elephant','lion','dog']"
      ],
      "execution_count": 0,
      "outputs": []
    },
    {
      "cell_type": "markdown",
      "metadata": {
        "id": "9GkleEGZUqtq",
        "colab_type": "text"
      },
      "source": [
        "Make a mapping of classmates and colors, relating each classmate to their favorite color."
      ]
    },
    {
      "cell_type": "code",
      "metadata": {
        "id": "m3EWDablUqtr",
        "colab_type": "code",
        "colab": {}
      },
      "source": [
        "{'Marisa':'blue','Samahs':'green','John':'red'}"
      ],
      "execution_count": 0,
      "outputs": []
    },
    {
      "cell_type": "markdown",
      "metadata": {
        "id": "1JBid8JRUqtu",
        "colab_type": "text"
      },
      "source": [
        "Make a mapping of colors to names, relating each color to the people that like it"
      ]
    },
    {
      "cell_type": "code",
      "metadata": {
        "id": "1FGYRxsrUqtu",
        "colab_type": "code",
        "colab": {}
      },
      "source": [
        "{'blue':'Marisa','green':'Samahs','red':'John'}"
      ],
      "execution_count": 0,
      "outputs": []
    },
    {
      "cell_type": "markdown",
      "metadata": {
        "id": "eZ8dMMyEUqtw",
        "colab_type": "text"
      },
      "source": [
        "Collect the set of all letters in your first name."
      ]
    },
    {
      "cell_type": "code",
      "metadata": {
        "id": "A7PDpBM0Uqtx",
        "colab_type": "code",
        "colab": {}
      },
      "source": [
        "{'m','a','r','i','s','a'}"
      ],
      "execution_count": 0,
      "outputs": []
    },
    {
      "cell_type": "markdown",
      "metadata": {
        "id": "Z6bUo3yeUquA",
        "colab_type": "text"
      },
      "source": [
        "List examples of each type of collection in Python."
      ]
    },
    {
      "cell_type": "code",
      "metadata": {
        "id": "nYgxva1FUquA",
        "colab_type": "code",
        "colab": {}
      },
      "source": [
        "(x,y,z)\n",
        "[x,y,z]\n",
        "'abcd'\n",
        "b'abcd'\n",
        "{x,y,z}\n",
        "{name:'Marisa',gender='female'}"
      ],
      "execution_count": 0,
      "outputs": []
    },
    {
      "cell_type": "markdown",
      "metadata": {
        "id": "b-8fffKqUquI",
        "colab_type": "text"
      },
      "source": [
        "Sequences, in particular, have some interesting properties can be concatenated together with the '+' operator:\n",
        "\n",
        "```python\n",
        ">>> \"Hello\" + \"World\"\n",
        "\"HelloWorld\"\n",
        "```"
      ]
    },
    {
      "cell_type": "markdown",
      "metadata": {
        "id": "MMJ2kMNLUquK",
        "colab_type": "text"
      },
      "source": [
        "Try concatenating three different types of sequences (containing whatever you wish)"
      ]
    },
    {
      "cell_type": "code",
      "metadata": {
        "id": "vAuJFICKUquP",
        "colab_type": "code",
        "outputId": "5a78b946-4e3f-4ee1-f330-4db8318222d0",
        "colab": {
          "base_uri": "https://localhost:8080/",
          "height": 34
        }
      },
      "source": [
        "b'abc'+b'123'"
      ],
      "execution_count": 0,
      "outputs": [
        {
          "output_type": "execute_result",
          "data": {
            "text/plain": [
              "b'abc123'"
            ]
          },
          "metadata": {
            "tags": []
          },
          "execution_count": 10
        }
      ]
    },
    {
      "cell_type": "code",
      "metadata": {
        "id": "Q4KEzxOhUquR",
        "colab_type": "code",
        "outputId": "309a7c87-06e6-4307-baaa-f26aff4fb944",
        "colab": {
          "base_uri": "https://localhost:8080/",
          "height": 34
        }
      },
      "source": [
        "[1,2,3]+[4,5,6]"
      ],
      "execution_count": 0,
      "outputs": [
        {
          "output_type": "execute_result",
          "data": {
            "text/plain": [
              "[1, 2, 3, 4, 5, 6]"
            ]
          },
          "metadata": {
            "tags": []
          },
          "execution_count": 3
        }
      ]
    },
    {
      "cell_type": "code",
      "metadata": {
        "id": "QWelIXm1UquT",
        "colab_type": "code",
        "outputId": "c9ef539a-1396-487f-9ae8-94e46ed1d18e",
        "colab": {
          "base_uri": "https://localhost:8080/",
          "height": 34
        }
      },
      "source": [
        "(2,3)+(10,20)"
      ],
      "execution_count": 0,
      "outputs": [
        {
          "output_type": "execute_result",
          "data": {
            "text/plain": [
              "(2, 3, 10, 20)"
            ]
          },
          "metadata": {
            "tags": []
          },
          "execution_count": 6
        }
      ]
    },
    {
      "cell_type": "markdown",
      "metadata": {
        "id": "t7uWTkXlUquX",
        "colab_type": "text"
      },
      "source": [
        "### Transforming Collections\n",
        "\n",
        "Although we've mostly used operators to make collections, there are also functions that can change one type of collection to another type:\n",
        "\n",
        "|               | tuple   | list     | dict   | set    | string |\n",
        "| :--:          | :---:   | :---:    | :---:  | :---:  | :---:  |\n",
        "| **function:** | tuple() | list()   | dict() | set()  | str()  |\n",
        "| **operator:** |  ()     |  []      |  {}    |  {}    |   \"\"   |\n"
      ]
    },
    {
      "cell_type": "markdown",
      "metadata": {
        "id": "HcGO8qnZUqua",
        "colab_type": "text"
      },
      "source": [
        "**Exercises**: Given a collection, change it into the requested type:"
      ]
    },
    {
      "cell_type": "markdown",
      "metadata": {
        "id": "Y9oj9c3bUquh",
        "colab_type": "text"
      },
      "source": [
        "1. list"
      ]
    },
    {
      "cell_type": "code",
      "metadata": {
        "id": "1nj2mSt_Uqui",
        "colab_type": "code",
        "outputId": "8bee584e-fa25-4df0-ff96-6d1456c61293",
        "colab": {
          "base_uri": "https://localhost:8080/",
          "height": 34
        }
      },
      "source": [
        "list((1, 2, 3))"
      ],
      "execution_count": 0,
      "outputs": [
        {
          "output_type": "execute_result",
          "data": {
            "text/plain": [
              "[1, 2, 3]"
            ]
          },
          "metadata": {
            "tags": []
          },
          "execution_count": 12
        }
      ]
    },
    {
      "cell_type": "markdown",
      "metadata": {
        "id": "EpmD5nyoUqux",
        "colab_type": "text"
      },
      "source": [
        "2. set"
      ]
    },
    {
      "cell_type": "code",
      "metadata": {
        "id": "ekMuGC5kUqux",
        "colab_type": "code",
        "outputId": "f70a1cfb-b2db-4c59-b7aa-8500222b756b",
        "colab": {
          "base_uri": "https://localhost:8080/",
          "height": 34
        }
      },
      "source": [
        "set((\"a\", \"b\", \"a\", \"c\", \"b\"))"
      ],
      "execution_count": 0,
      "outputs": [
        {
          "output_type": "execute_result",
          "data": {
            "text/plain": [
              "{'a', 'b', 'c'}"
            ]
          },
          "metadata": {
            "tags": []
          },
          "execution_count": 13
        }
      ]
    },
    {
      "cell_type": "markdown",
      "metadata": {
        "id": "G5cCaMs3Uqu0",
        "colab_type": "text"
      },
      "source": [
        "3. string"
      ]
    },
    {
      "cell_type": "code",
      "metadata": {
        "id": "nbAEqaISUqu0",
        "colab_type": "code",
        "outputId": "26935e01-3893-4078-b9ce-1f71a242a1b9",
        "colab": {
          "base_uri": "https://localhost:8080/",
          "height": 34
        }
      },
      "source": [
        "str([1, 2, 3, 4])"
      ],
      "execution_count": 0,
      "outputs": [
        {
          "output_type": "execute_result",
          "data": {
            "text/plain": [
              "'[1, 2, 3, 4]'"
            ]
          },
          "metadata": {
            "tags": []
          },
          "execution_count": 17
        }
      ]
    },
    {
      "cell_type": "markdown",
      "metadata": {
        "id": "PPRbRujAUqu3",
        "colab_type": "text"
      },
      "source": [
        "4. list"
      ]
    },
    {
      "cell_type": "code",
      "metadata": {
        "id": "CfJZHhUhUqu4",
        "colab_type": "code",
        "outputId": "d14978b1-2182-48af-e356-52c55c5c0aa7",
        "colab": {
          "base_uri": "https://localhost:8080/",
          "height": 34
        }
      },
      "source": [
        "list(\"1234\")"
      ],
      "execution_count": 0,
      "outputs": [
        {
          "output_type": "execute_result",
          "data": {
            "text/plain": [
              "['1', '2', '3', '4']"
            ]
          },
          "metadata": {
            "tags": []
          },
          "execution_count": 15
        }
      ]
    },
    {
      "cell_type": "markdown",
      "metadata": {
        "id": "ADtjcBGyUqu7",
        "colab_type": "text"
      },
      "source": [
        "5. Tuple"
      ]
    },
    {
      "cell_type": "code",
      "metadata": {
        "id": "pfdt9fqVUqu7",
        "colab_type": "code",
        "outputId": "9201535c-df4a-4e9d-f7ea-8c5d499b6f9d",
        "colab": {
          "base_uri": "https://localhost:8080/",
          "height": 34
        }
      },
      "source": [
        "tuple(\"Hello, World!\")"
      ],
      "execution_count": 0,
      "outputs": [
        {
          "output_type": "execute_result",
          "data": {
            "text/plain": [
              "('H', 'e', 'l', 'l', 'o', ',', ' ', 'W', 'o', 'r', 'l', 'd', '!')"
            ]
          },
          "metadata": {
            "tags": []
          },
          "execution_count": 18
        }
      ]
    },
    {
      "cell_type": "markdown",
      "metadata": {
        "id": "Z6kzKEuVUqvH",
        "colab_type": "text"
      },
      "source": [
        "6. Dict"
      ]
    },
    {
      "cell_type": "code",
      "metadata": {
        "id": "gVY8etfmUqvH",
        "colab_type": "code",
        "outputId": "2a35e1db-78ab-4935-a3cb-6307ee392283",
        "colab": {
          "base_uri": "https://localhost:8080/",
          "height": 34
        }
      },
      "source": [
        "dict([(1, 2), (2, 3), (3, 4)])"
      ],
      "execution_count": 0,
      "outputs": [
        {
          "output_type": "execute_result",
          "data": {
            "text/plain": [
              "{1: 2, 2: 3, 3: 4}"
            ]
          },
          "metadata": {
            "tags": []
          },
          "execution_count": 19
        }
      ]
    },
    {
      "cell_type": "markdown",
      "metadata": {
        "id": "08at-dlvUqvK",
        "colab_type": "text"
      },
      "source": [
        "6. Set"
      ]
    },
    {
      "cell_type": "code",
      "metadata": {
        "id": "ZmZrCIWvUqvK",
        "colab_type": "code",
        "outputId": "d53a9c17-8158-43c7-c479-0388de4278e8",
        "colab": {
          "base_uri": "https://localhost:8080/",
          "height": 34
        }
      },
      "source": [
        "set({'a': 1, 'b': 2, 'c': 3})"
      ],
      "execution_count": 0,
      "outputs": [
        {
          "output_type": "execute_result",
          "data": {
            "text/plain": [
              "{'a', 'b', 'c'}"
            ]
          },
          "metadata": {
            "tags": []
          },
          "execution_count": 20
        }
      ]
    },
    {
      "cell_type": "markdown",
      "metadata": {
        "id": "1pN5w850UqvN",
        "colab_type": "text"
      },
      "source": [
        "7. Discussion: Why does Python give an error when trying to change this list into a dict?"
      ]
    },
    {
      "cell_type": "code",
      "metadata": {
        "id": "19S44fkIUqvO",
        "colab_type": "code",
        "outputId": "31ec0a10-88d9-4a2b-945c-98673e0ebe24",
        "colab": {
          "base_uri": "https://localhost:8080/",
          "height": 163
        }
      },
      "source": [
        "dict([1,2,3,4,5])"
      ],
      "execution_count": 0,
      "outputs": [
        {
          "output_type": "error",
          "ename": "TypeError",
          "evalue": "ignored",
          "traceback": [
            "\u001b[0;31m---------------------------------------------------------------------------\u001b[0m",
            "\u001b[0;31mTypeError\u001b[0m                                 Traceback (most recent call last)",
            "\u001b[0;32m<ipython-input-3-e8dd668d9b61>\u001b[0m in \u001b[0;36m<module>\u001b[0;34m()\u001b[0m\n\u001b[0;32m----> 1\u001b[0;31m \u001b[0mdict\u001b[0m\u001b[0;34m(\u001b[0m\u001b[0;34m[\u001b[0m\u001b[0;36m1\u001b[0m\u001b[0;34m,\u001b[0m \u001b[0;36m2\u001b[0m\u001b[0;34m,\u001b[0m \u001b[0;36m3\u001b[0m\u001b[0;34m,\u001b[0m \u001b[0;36m4\u001b[0m\u001b[0;34m]\u001b[0m\u001b[0;34m)\u001b[0m\u001b[0;34m\u001b[0m\u001b[0;34m\u001b[0m\u001b[0m\n\u001b[0m",
            "\u001b[0;31mTypeError\u001b[0m: cannot convert dictionary update sequence element #0 to a sequence"
          ]
        }
      ]
    },
    {
      "cell_type": "markdown",
      "metadata": {
        "id": "4uEW8_ds6Slc",
        "colab_type": "text"
      },
      "source": [
        "**Comment (MPO):** The list has not correlation between the different elements, something like keys and values pairs, e.g. dict(a=1,b=2,c=3,d=4).\n",
        "\n"
      ]
    },
    {
      "cell_type": "markdown",
      "metadata": {
        "id": "mIJb_PKeUqvR",
        "colab_type": "text"
      },
      "source": [
        "## Extracting Data From a Collection\n",
        "\n",
        "Data can be indexed/queried/extracted from collectoins using the square brackets: [ ]\n",
        "\n",
        "In sequences, putting a number inside the the brackets extracts the nth (counting from zero) value\n",
        "```python\n",
        ">>> (1, 2, 3)[1]\n",
        "2\n",
        "\n",
        ">>> (1, 2, 3)[0]\n",
        "1\n",
        "\n",
        ">>> (1, 2, 3)[-1]\n",
        "3\n",
        "```\n",
        "\n",
        "You can \"slice\" a sequence (get all from one index to another index) using the colon [:]\n",
        "```python\n",
        ">>> (10, 20, 30, 40, 50, 60)[1:3]\n",
        "(20, 30)\n",
        "\n",
        ">>> (10, 20, 30, 40, 50, 60)[:3]\n",
        "(10, 20, 30)\n",
        "\n",
        ">>> (10, 20, 30, 40, 50, 60)[3:]\n",
        "(40, 50, 60)\n",
        "```\n",
        "\n",
        "In dicts, putting the key inside the brackets returns the associated value.\n",
        "```python\n",
        ">>> {'a': 3, 'b': 4}['a']\n",
        "3\n",
        "\n",
        ">>> {'a': 3, 'b': 4}['b']\n",
        "4\n",
        "```\n"
      ]
    },
    {
      "cell_type": "markdown",
      "metadata": {
        "id": "CvDinGTkUqvS",
        "colab_type": "text"
      },
      "source": [
        "## Indexing Exercises\n",
        "\n",
        "Using the example dataset *scores*, select only the described elements from each list:"
      ]
    },
    {
      "cell_type": "markdown",
      "metadata": {
        "id": "gtzBNEAuUqvT",
        "colab_type": "text"
      },
      "source": [
        "0. The first score"
      ]
    },
    {
      "cell_type": "code",
      "metadata": {
        "id": "Y0FwOh-dUqvT",
        "colab_type": "code",
        "colab": {}
      },
      "source": [
        "(0.2, 0.3, 0.9, 1.1, 2.2, 2.9, 0.0, 0.7, 1.3, 0.3, 0.5, 0.1, 0.0)[0]"
      ],
      "execution_count": 0,
      "outputs": []
    },
    {
      "cell_type": "markdown",
      "metadata": {
        "id": "3dvbx229Uqvd",
        "colab_type": "text"
      },
      "source": [
        "1. The third score"
      ]
    },
    {
      "cell_type": "code",
      "metadata": {
        "id": "9gU8Nk_MUqve",
        "colab_type": "code",
        "colab": {}
      },
      "source": [
        "(0.2, 0.3, 0.9, 1.1, 2.2, 2.9, 0.0, 0.7, 1.3, 0.3, 0.5, 0.1, 0.0)[2]"
      ],
      "execution_count": 0,
      "outputs": []
    },
    {
      "cell_type": "markdown",
      "metadata": {
        "id": "JcOYGUmbUqvg",
        "colab_type": "text"
      },
      "source": [
        "2. The last score"
      ]
    },
    {
      "cell_type": "code",
      "metadata": {
        "id": "4QDE09PpUqvg",
        "colab_type": "code",
        "colab": {}
      },
      "source": [
        "(0.2, 0.3, 0.9, 1.1, 2.2, 2.9, 0.0, 0.7, 1.3, 0.3, 0.5, 0.1, 0.0)[-1]"
      ],
      "execution_count": 0,
      "outputs": []
    },
    {
      "cell_type": "markdown",
      "metadata": {
        "id": "kE9_AiUAUqvi",
        "colab_type": "text"
      },
      "source": [
        "2a. The 3rd from the last score"
      ]
    },
    {
      "cell_type": "code",
      "metadata": {
        "id": "IfyRmVQOUqvj",
        "colab_type": "code",
        "colab": {}
      },
      "source": [
        "(0.2, 0.3, 0.9, 1.1, 2.2, 2.9, 0.0, 0.7, 1.3, 0.3, 0.5, 0.1, 0.0)[-3]"
      ],
      "execution_count": 0,
      "outputs": []
    },
    {
      "cell_type": "markdown",
      "metadata": {
        "id": "E--__MBdUqvl",
        "colab_type": "text"
      },
      "source": [
        "3. The 2nd through 5th score"
      ]
    },
    {
      "cell_type": "code",
      "metadata": {
        "id": "yDzpVM-wUqvm",
        "colab_type": "code",
        "colab": {}
      },
      "source": [
        "(0.2, 0.3, 0.9, 1.1, 2.2, 2.9, 0.0, 0.7, 1.3, 0.3, 0.5, 0.1, 0.0)[1:5]"
      ],
      "execution_count": 0,
      "outputs": []
    },
    {
      "cell_type": "markdown",
      "metadata": {
        "id": "fypnBK24Uqvz",
        "colab_type": "text"
      },
      "source": [
        "4. Every second score (the first, third, fifth, etc)"
      ]
    },
    {
      "cell_type": "code",
      "metadata": {
        "id": "rnwTadf3Uqv0",
        "colab_type": "code",
        "outputId": "0212d787-0ba9-4924-cbdd-84dd500b4ea8",
        "colab": {
          "base_uri": "https://localhost:8080/",
          "height": 34
        }
      },
      "source": [
        "(0.2, 0.3, 0.9, 1.1, 2.2, 2.9, 0.0, 0.7, 1.3, 0.3, 0.5, 0.1, 0.0)[::2]"
      ],
      "execution_count": 0,
      "outputs": [
        {
          "output_type": "execute_result",
          "data": {
            "text/plain": [
              "(0.2, 0.9, 2.2, 0.0, 1.3, 0.5, 0.0)"
            ]
          },
          "metadata": {
            "tags": []
          },
          "execution_count": 7
        }
      ]
    },
    {
      "cell_type": "markdown",
      "metadata": {
        "id": "75p_5xToUqv2",
        "colab_type": "text"
      },
      "source": [
        "5. Every score after the 4th score"
      ]
    },
    {
      "cell_type": "code",
      "metadata": {
        "id": "otvAGqWYUqv2",
        "colab_type": "code",
        "outputId": "c880d147-e2ce-47d4-fad7-468316ac0ba2",
        "colab": {
          "base_uri": "https://localhost:8080/",
          "height": 34
        }
      },
      "source": [
        "(0.2, 0.3, 0.9, 1.1, 2.2, 2.9, 0.0, 0.7, 1.3, 0.3, 0.5, 0.1, 0.0)[4:]"
      ],
      "execution_count": 0,
      "outputs": [
        {
          "output_type": "execute_result",
          "data": {
            "text/plain": [
              "(2.2, 2.9, 0.0, 0.7, 1.3, 0.3, 0.5, 0.1, 0.0)"
            ]
          },
          "metadata": {
            "tags": []
          },
          "execution_count": 9
        }
      ]
    },
    {
      "cell_type": "markdown",
      "metadata": {
        "id": "M3pJIk0VUqv5",
        "colab_type": "text"
      },
      "source": [
        "6. Every second score from the 2nd to the 8th."
      ]
    },
    {
      "cell_type": "code",
      "metadata": {
        "id": "LJ5-ruIXUqv5",
        "colab_type": "code",
        "colab": {}
      },
      "source": [
        "(0.2, 0.3, 0.9, 1.1, 2.2, 2.9, 0.0, 0.7, 1.3, 0.3, 0.5, 0.1, 0.0)[1:8:2]"
      ],
      "execution_count": 0,
      "outputs": []
    },
    {
      "cell_type": "markdown",
      "metadata": {
        "id": "4YrzbqCbUqwF",
        "colab_type": "text"
      },
      "source": [
        "7. Every score except the first and last."
      ]
    },
    {
      "cell_type": "code",
      "metadata": {
        "id": "08PRRnzjUqwG",
        "colab_type": "code",
        "outputId": "3f5af614-1e7a-42ea-848d-3aaeecba6f69",
        "colab": {
          "base_uri": "https://localhost:8080/",
          "height": 34
        }
      },
      "source": [
        "(0.2, 0.3, 0.9, 1.1, 2.2, 2.9, 0.0, 0.7, 1.3, 0.3, 0.5, 0.1, 0.0)[1:-1]"
      ],
      "execution_count": 0,
      "outputs": [
        {
          "output_type": "execute_result",
          "data": {
            "text/plain": [
              "(0.3, 0.9, 1.1, 2.2, 2.9, 0.0, 0.7, 1.3, 0.3, 0.5, 0.1)"
            ]
          },
          "metadata": {
            "tags": []
          },
          "execution_count": 22
        }
      ]
    },
    {
      "cell_type": "markdown",
      "metadata": {
        "id": "cUovNUPSUqwJ",
        "colab_type": "text"
      },
      "source": [
        "## Aggregating Your Collections into Single Values (Descriptive Statistics)\n",
        "\n",
        "Python can use named **functions** that turn data into something else.  By doing this repeatedly, in sequence, we can build data processing pipelines!\n",
        "\n",
        "Functions in Python have the following syntax:\n",
        "\n",
        "```\n",
        "output = function(input)\n",
        "```\n",
        "\n",
        "First, let's look at some **built-in** functions to get a sense of how they work:  **min()**, **max()**, **sum()**, and **len()**:\n",
        "\n",
        "```python\n",
        ">>> min([1, 2, 3, 2])\n",
        "1\n",
        "\n",
        ">>> max([1, 2, 3, 2])\n",
        "3\n",
        "\n",
        ">>> sum([1, 2, 3, 2])\n",
        "8\n",
        "\n",
        ">>> len([1, 2, 3, 2])\n",
        "4\n",
        "```"
      ]
    },
    {
      "cell_type": "markdown",
      "metadata": {
        "id": "y1wWUhTqUqwL",
        "colab_type": "text"
      },
      "source": [
        "### Exercises: \n",
        "Read the following lines of Python and predict their output.  Then, run the code to see if you were correct."
      ]
    },
    {
      "cell_type": "markdown",
      "metadata": {
        "id": "TtcJZUOjUqwL",
        "colab_type": "text"
      },
      "source": [
        "```python\n",
        "min([3, 6, 5, 2]) = 2\n",
        "```"
      ]
    },
    {
      "cell_type": "code",
      "metadata": {
        "id": "LivCBq39UqwM",
        "colab_type": "code",
        "outputId": "ce2708ae-00c1-440d-f36a-e91fb2d10885",
        "colab": {
          "base_uri": "https://localhost:8080/",
          "height": 34
        }
      },
      "source": [
        "min([3,6,5,2])"
      ],
      "execution_count": 0,
      "outputs": [
        {
          "output_type": "execute_result",
          "data": {
            "text/plain": [
              "2"
            ]
          },
          "metadata": {
            "tags": []
          },
          "execution_count": 10
        }
      ]
    },
    {
      "cell_type": "markdown",
      "metadata": {
        "id": "-PvvWSc8UqwO",
        "colab_type": "text"
      },
      "source": [
        "```python\n",
        "max([3, 6, 5, 2][2:])\n",
        "```"
      ]
    },
    {
      "cell_type": "code",
      "metadata": {
        "id": "43QJvWAKUqwO",
        "colab_type": "code",
        "outputId": "523cfb25-3b0b-4c23-8c68-70b30da45978",
        "colab": {
          "base_uri": "https://localhost:8080/",
          "height": 34
        }
      },
      "source": [
        "max([3,6,5,2][2:])"
      ],
      "execution_count": 0,
      "outputs": [
        {
          "output_type": "execute_result",
          "data": {
            "text/plain": [
              "5"
            ]
          },
          "metadata": {
            "tags": []
          },
          "execution_count": 12
        }
      ]
    },
    {
      "cell_type": "markdown",
      "metadata": {
        "id": "SIYD9-SNUqwR",
        "colab_type": "text"
      },
      "source": [
        "```python\n",
        "min([max((2, 4, 1)), len((2, 4, 1)), min(2, 4, 1)]) = 1\n",
        "```"
      ]
    },
    {
      "cell_type": "code",
      "metadata": {
        "id": "HlebPXbJUqwS",
        "colab_type": "code",
        "outputId": "98ceac05-31b5-4f4c-8a87-6a1212cd797d",
        "colab": {
          "base_uri": "https://localhost:8080/",
          "height": 34
        }
      },
      "source": [
        "min([max((2, 4, 1)), len((2, 4, 1)), min(2, 4, 1)])"
      ],
      "execution_count": 0,
      "outputs": [
        {
          "output_type": "execute_result",
          "data": {
            "text/plain": [
              "1"
            ]
          },
          "metadata": {
            "tags": []
          },
          "execution_count": 13
        }
      ]
    },
    {
      "cell_type": "markdown",
      "metadata": {
        "id": "2qww3o1tUqwV",
        "colab_type": "text"
      },
      "source": [
        "```python\n",
        "(min([1, 2]), max([3, 4, 5])) = (1,5)\n",
        "```"
      ]
    },
    {
      "cell_type": "code",
      "metadata": {
        "id": "5TpV7LylUqwV",
        "colab_type": "code",
        "outputId": "bac98349-9311-4415-c956-39f97ea499e9",
        "colab": {
          "base_uri": "https://localhost:8080/",
          "height": 34
        }
      },
      "source": [
        "(min([1, 2]), max([3, 4, 5]))"
      ],
      "execution_count": 0,
      "outputs": [
        {
          "output_type": "execute_result",
          "data": {
            "text/plain": [
              "(1, 5)"
            ]
          },
          "metadata": {
            "tags": []
          },
          "execution_count": 14
        }
      ]
    },
    {
      "cell_type": "markdown",
      "metadata": {
        "id": "pRlwZfAuUqwh",
        "colab_type": "text"
      },
      "source": [
        "```python\n",
        "max([1, 2, 3, 4, 5, 6][1:3]) = 4\n",
        "```"
      ]
    },
    {
      "cell_type": "code",
      "metadata": {
        "id": "6uoKI6liUqwi",
        "colab_type": "code",
        "outputId": "e0ef6ddf-94b1-4a63-8ff6-af53efce4392",
        "colab": {
          "base_uri": "https://localhost:8080/",
          "height": 34
        }
      },
      "source": [
        "max([1, 2, 3, 4, 5, 6][1:3])"
      ],
      "execution_count": 0,
      "outputs": [
        {
          "output_type": "execute_result",
          "data": {
            "text/plain": [
              "3"
            ]
          },
          "metadata": {
            "tags": []
          },
          "execution_count": 15
        }
      ]
    },
    {
      "cell_type": "markdown",
      "metadata": {
        "id": "y_r3FtKtUqwy",
        "colab_type": "text"
      },
      "source": [
        "```python\n",
        "len({3, 4, 5, 5, 4}) = 5\n",
        "```"
      ]
    },
    {
      "cell_type": "code",
      "metadata": {
        "id": "683016pbUqwy",
        "colab_type": "code",
        "outputId": "b2c364ac-3815-49c9-bfc6-2b241b8b3bde",
        "colab": {
          "base_uri": "https://localhost:8080/",
          "height": 34
        }
      },
      "source": [
        "len({3, 4, 5, 5, 4})"
      ],
      "execution_count": 0,
      "outputs": [
        {
          "output_type": "execute_result",
          "data": {
            "text/plain": [
              "3"
            ]
          },
          "metadata": {
            "tags": []
          },
          "execution_count": 16
        }
      ]
    },
    {
      "cell_type": "markdown",
      "metadata": {
        "id": "9ykGCXMFUqw0",
        "colab_type": "text"
      },
      "source": [
        "```python\n",
        "len({1: 2, 3: 4, 5: 6, 7: 8})\n",
        "```"
      ]
    },
    {
      "cell_type": "code",
      "metadata": {
        "id": "sNMfsdNgUqw1",
        "colab_type": "code",
        "outputId": "d6cc1128-3ee1-436f-d619-3d38a0b5753b",
        "colab": {
          "base_uri": "https://localhost:8080/",
          "height": 34
        }
      },
      "source": [
        "len({1:2,3:4,5:6,7:8})"
      ],
      "execution_count": 0,
      "outputs": [
        {
          "output_type": "execute_result",
          "data": {
            "text/plain": [
              "4"
            ]
          },
          "metadata": {
            "tags": []
          },
          "execution_count": 17
        }
      ]
    },
    {
      "cell_type": "markdown",
      "metadata": {
        "id": "uLtTDFm0Uqw3",
        "colab_type": "text"
      },
      "source": [
        "### Discussion: sum() of strings\n",
        "In Python, why does this work:"
      ]
    },
    {
      "cell_type": "code",
      "metadata": {
        "id": "HH9Z1KpdUqw3",
        "colab_type": "code",
        "outputId": "f6eefe6c-0e65-4581-ae06-f4e12e364bd6",
        "colab": {}
      },
      "source": [
        "\"Hi\" + \"Bye\""
      ],
      "execution_count": 0,
      "outputs": [
        {
          "output_type": "execute_result",
          "data": {
            "text/plain": [
              "'HiBye'"
            ]
          },
          "metadata": {
            "tags": []
          },
          "execution_count": 2
        }
      ]
    },
    {
      "cell_type": "markdown",
      "metadata": {
        "id": "hEaGnxB6Uqw5",
        "colab_type": "text"
      },
      "source": [
        "... but not this:"
      ]
    },
    {
      "cell_type": "code",
      "metadata": {
        "id": "FiYgXMkXUqw6",
        "colab_type": "code",
        "outputId": "c9f37e05-3ebd-43c4-bc3e-b9c07d812824",
        "colab": {
          "base_uri": "https://localhost:8080/",
          "height": 163
        }
      },
      "source": [
        "sum([\"Hi\", \"Bye\"])"
      ],
      "execution_count": 0,
      "outputs": [
        {
          "output_type": "error",
          "ename": "TypeError",
          "evalue": "ignored",
          "traceback": [
            "\u001b[0;31m---------------------------------------------------------------------------\u001b[0m",
            "\u001b[0;31mTypeError\u001b[0m                                 Traceback (most recent call last)",
            "\u001b[0;32m<ipython-input-23-a847ce29bf0b>\u001b[0m in \u001b[0;36m<module>\u001b[0;34m()\u001b[0m\n\u001b[0;32m----> 1\u001b[0;31m \u001b[0msum\u001b[0m\u001b[0;34m(\u001b[0m\u001b[0;34m[\u001b[0m\u001b[0;34m\"Hi\"\u001b[0m\u001b[0;34m,\u001b[0m \u001b[0;34m\"Bye\"\u001b[0m\u001b[0;34m]\u001b[0m\u001b[0;34m)\u001b[0m\u001b[0;34m\u001b[0m\u001b[0;34m\u001b[0m\u001b[0m\n\u001b[0m",
            "\u001b[0;31mTypeError\u001b[0m: unsupported operand type(s) for +: 'int' and 'str'"
          ]
        }
      ]
    },
    {
      "cell_type": "markdown",
      "metadata": {
        "id": "TZbVkAYKUqw8",
        "colab_type": "text"
      },
      "source": [
        "What are some mental models we can use to reason about this difference in behavior?  And what does the error mean?\n",
        "\n",
        "**MPO**: the \"sum\" funtion do not support adition with *strings* just with *numbers*"
      ]
    },
    {
      "cell_type": "code",
      "metadata": {
        "id": "fVpneqcyAN0Z",
        "colab_type": "code",
        "outputId": "ad3aa9b9-a03f-4013-9b05-cd5a9a282e03",
        "colab": {
          "base_uri": "https://localhost:8080/",
          "height": 34
        }
      },
      "source": [
        "sum((1,2))"
      ],
      "execution_count": 0,
      "outputs": [
        {
          "output_type": "execute_result",
          "data": {
            "text/plain": [
              "3"
            ]
          },
          "metadata": {
            "tags": []
          },
          "execution_count": 19
        }
      ]
    },
    {
      "cell_type": "code",
      "metadata": {
        "id": "7AxtLcsWAbKz",
        "colab_type": "code",
        "colab": {}
      },
      "source": [
        ""
      ],
      "execution_count": 0,
      "outputs": []
    }
  ]
}